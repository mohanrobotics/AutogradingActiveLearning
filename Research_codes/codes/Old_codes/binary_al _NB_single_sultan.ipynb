{
 "cells": [
  {
   "cell_type": "markdown",
   "metadata": {},
   "source": [
    "# Binary classification - single_model using Naive Bayes(sultan_features)"
   ]
  },
  {
   "cell_type": "markdown",
   "metadata": {},
   "source": [
    "# Importing and Preprocessing"
   ]
  },
  {
   "cell_type": "markdown",
   "metadata": {},
   "source": [
    "## Importing libraries"
   ]
  },
  {
   "cell_type": "code",
   "execution_count": 19,
   "metadata": {},
   "outputs": [],
   "source": [
    "#### import numpy as np\n",
    "import pandas as pd\n",
    "import matplotlib.pyplot as plt\n",
    "import numpy as np\n",
    "\n",
    "from nltk.corpus import stopwords\n",
    "from nltk.stem import PorterStemmer\n",
    "from nltk.tokenize import word_tokenize\n",
    "from textblob import Word\n",
    "from textblob import TextBlob\n",
    "\n",
    "from collections import Counter\n",
    "from sklearn.model_selection import train_test_split\n",
    "from sklearn.feature_extraction.text import CountVectorizer\n",
    "from sklearn.linear_model import LogisticRegression\n",
    "\n",
    "from sklearn.decomposition import PCA\n",
    "from sklearn.svm import SVC\n",
    "from sklearn.datasets import load_iris\n",
    "from sklearn.neighbors import KNeighborsClassifier\n",
    "from sklearn.ensemble import RandomForestClassifier\n",
    "from sklearn.naive_bayes import MultinomialNB\n",
    "\n",
    "from modAL.models import ActiveLearner\n",
    "from modAL.models import ActiveLearner\n",
    "\n",
    "import en_core_web_sm\n",
    "nlp = en_core_web_sm.load()\n",
    "\n",
    "%matplotlib inline"
   ]
  },
  {
   "cell_type": "markdown",
   "metadata": {},
   "source": [
    "# Gathering required features"
   ]
  },
  {
   "cell_type": "code",
   "execution_count": 20,
   "metadata": {},
   "outputs": [],
   "source": [
    "df = pd.read_pickle(\"./sultan_features.pkl\")\n",
    "df = df.fillna(0)"
   ]
  },
  {
   "cell_type": "code",
   "execution_count": 21,
   "metadata": {},
   "outputs": [
    {
     "name": "stderr",
     "output_type": "stream",
     "text": [
      "/home/mohandass/anaconda3/envs/maluuba/lib/python3.6/site-packages/ipykernel_launcher.py:2: SettingWithCopyWarning: \n",
      "A value is trying to be set on a copy of a slice from a DataFrame.\n",
      "Try using .loc[row_indexer,col_indexer] = value instead\n",
      "\n",
      "See the caveats in the documentation: http://pandas.pydata.org/pandas-docs/stable/indexing.html#indexing-view-versus-copy\n",
      "  \n",
      "/home/mohandass/anaconda3/envs/maluuba/lib/python3.6/site-packages/ipykernel_launcher.py:3: SettingWithCopyWarning: \n",
      "A value is trying to be set on a copy of a slice from a DataFrame.\n",
      "Try using .loc[row_indexer,col_indexer] = value instead\n",
      "\n",
      "See the caveats in the documentation: http://pandas.pydata.org/pandas-docs/stable/indexing.html#indexing-view-versus-copy\n",
      "  This is separate from the ipykernel package so we can avoid doing imports until\n"
     ]
    }
   ],
   "source": [
    "short_df = df[['question_id','question','student_answer','student_modified','ref_modified', \\\n",
    "               'grade','length_ratio','aligned_score','aligned_score_demo','cos_similarity','cos_similarity_demo']]\n",
    "short_df['status'] = short_df['grade'] >= 3\n",
    "short_df['status'] = short_df['status'].astype(int)"
   ]
  },
  {
   "cell_type": "markdown",
   "metadata": {},
   "source": [
    "# Sultan features"
   ]
  },
  {
   "cell_type": "code",
   "execution_count": 22,
   "metadata": {},
   "outputs": [],
   "source": [
    "X = short_df[['length_ratio','aligned_score','aligned_score_demo','cos_similarity','cos_similarity_demo']]\n",
    "# X['cos_similarity_demo'].isnull().sum().sum()\n",
    "# X[X.isnull().any(1)]"
   ]
  },
  {
   "cell_type": "code",
   "execution_count": 23,
   "metadata": {},
   "outputs": [
    {
     "name": "stderr",
     "output_type": "stream",
     "text": [
      "/home/mohandass/anaconda3/envs/maluuba/lib/python3.6/site-packages/ipykernel_launcher.py:2: SettingWithCopyWarning: \n",
      "A value is trying to be set on a copy of a slice from a DataFrame.\n",
      "Try using .loc[row_indexer,col_indexer] = value instead\n",
      "\n",
      "See the caveats in the documentation: http://pandas.pydata.org/pandas-docs/stable/indexing.html#indexing-view-versus-copy\n",
      "  \n",
      "/home/mohandass/anaconda3/envs/maluuba/lib/python3.6/site-packages/pandas/core/frame.py:3163: SettingWithCopyWarning: \n",
      "A value is trying to be set on a copy of a slice from a DataFrame\n",
      "\n",
      "See the caveats in the documentation: http://pandas.pydata.org/pandas-docs/stable/indexing.html#indexing-view-versus-copy\n",
      "  self._where(-key, value, inplace=True)\n"
     ]
    }
   ],
   "source": [
    "X = short_df[['length_ratio','aligned_score','aligned_score_demo','cos_similarity','cos_similarity_demo']]\n",
    "X[X<0] = 0\n",
    "Y = short_df['status'].values\n",
    "X = np.array(X)"
   ]
  },
  {
   "cell_type": "markdown",
   "metadata": {},
   "source": [
    "# Seeding"
   ]
  },
  {
   "cell_type": "code",
   "execution_count": 24,
   "metadata": {},
   "outputs": [
    {
     "data": {
      "text/plain": [
       "[0, 5]"
      ]
     },
     "execution_count": 24,
     "metadata": {},
     "output_type": "execute_result"
    }
   ],
   "source": [
    "#getting the seed index\n",
    "classes = short_df['status'].unique()\n",
    "seed_index = []\n",
    "for i in classes:\n",
    "    seed_index.append(short_df['status'][short_df['status']==i].index[0])\n",
    "seed_index"
   ]
  },
  {
   "cell_type": "code",
   "execution_count": 34,
   "metadata": {},
   "outputs": [
    {
     "name": "stdout",
     "output_type": "stream",
     "text": [
      "Accuracy after query no. 1: 0.545715\n",
      "Accuracy after query no. 2: 0.545529\n",
      "Accuracy after query no. 3: 0.545343\n",
      "Accuracy after query no. 4: 0.494663\n",
      "Accuracy after query no. 5: 0.595893\n",
      "Accuracy after query no. 6: 0.466311\n",
      "Accuracy after query no. 7: 0.542951\n",
      "Accuracy after query no. 8: 0.832237\n",
      "Accuracy after query no. 9: 0.675031\n",
      "Accuracy after query no. 10: 0.834568\n",
      "Accuracy after query no. 11: 0.759572\n",
      "Accuracy after query no. 12: 0.850494\n",
      "Accuracy after query no. 13: 0.843840\n",
      "Accuracy after query no. 14: 0.822754\n",
      "Accuracy after query no. 15: 0.823505\n",
      "Accuracy after query no. 16: 0.833746\n",
      "Accuracy after query no. 17: 0.834503\n",
      "Accuracy after query no. 18: 0.830718\n",
      "Accuracy after query no. 19: 0.852127\n",
      "Accuracy after query no. 20: 0.870661\n",
      "Accuracy after query no. 21: 0.876809\n",
      "Accuracy after query no. 22: 0.880480\n",
      "Accuracy after query no. 23: 0.877120\n",
      "Accuracy after query no. 24: 0.877483\n",
      "Accuracy after query no. 25: 0.874534\n",
      "Accuracy after query no. 26: 0.871582\n",
      "Accuracy after query no. 27: 0.867385\n",
      "Accuracy after query no. 28: 0.844113\n",
      "Accuracy after query no. 29: 0.822066\n",
      "Accuracy after query no. 30: 0.836929\n",
      "Accuracy after query no. 31: 0.821918\n",
      "Accuracy after query no. 32: 0.836379\n",
      "Accuracy after query no. 33: 0.822185\n",
      "Accuracy after query no. 34: 0.834580\n",
      "Accuracy after query no. 35: 0.821622\n",
      "Accuracy after query no. 36: 0.732113\n",
      "Accuracy after query no. 37: 0.588015\n",
      "Accuracy after query no. 38: 0.796003\n",
      "Accuracy after query no. 39: 0.769263\n",
      "Accuracy after query no. 40: 0.672083\n",
      "Accuracy after query no. 41: 0.773239\n",
      "Accuracy after query no. 42: 0.797331\n",
      "Accuracy after query no. 43: 0.776387\n",
      "Accuracy after query no. 44: 0.789649\n",
      "Accuracy after query no. 45: 0.764927\n",
      "Accuracy after query no. 46: 0.805347\n",
      "Accuracy after query no. 47: 0.813205\n",
      "Accuracy after query no. 48: 0.821488\n",
      "Accuracy after query no. 49: 0.818904\n",
      "Accuracy after query no. 50: 0.821757\n",
      "Accuracy after query no. 51: 0.825450\n",
      "Accuracy after query no. 52: 0.865578\n",
      "Accuracy after query no. 53: 0.870130\n",
      "Accuracy after query no. 54: 0.870075\n",
      "Accuracy after query no. 55: 0.875052\n",
      "Accuracy after query no. 56: 0.875000\n",
      "Accuracy after query no. 57: 0.876206\n",
      "Accuracy after query no. 58: 0.877414\n",
      "Accuracy after query no. 59: 0.881142\n",
      "Accuracy after query no. 60: 0.880252\n",
      "Accuracy after query no. 61: 0.873897\n",
      "Accuracy after query no. 62: 0.879310\n",
      "Accuracy after query no. 63: 0.875894\n",
      "Accuracy after query no. 64: 0.867845\n",
      "Accuracy after query no. 65: 0.868632\n",
      "Accuracy after query no. 66: 0.865206\n",
      "Accuracy after query no. 67: 0.866835\n",
      "Accuracy after query no. 68: 0.863828\n",
      "Accuracy after query no. 69: 0.877267\n",
      "Accuracy after query no. 70: 0.862025\n",
      "Accuracy after query no. 71: 0.875897\n",
      "Accuracy after query no. 72: 0.880068\n",
      "Accuracy after query no. 73: 0.872835\n",
      "Accuracy after query no. 74: 0.878698\n",
      "Accuracy after query no. 75: 0.877801\n",
      "Accuracy after query no. 76: 0.880711\n",
      "Accuracy after query no. 77: 0.881507\n",
      "Accuracy after query no. 78: 0.887807\n",
      "Accuracy after query no. 79: 0.880983\n",
      "Accuracy after query no. 80: 0.880508\n",
      "Accuracy after query no. 81: 0.880882\n",
      "Accuracy after query no. 82: 0.890161\n",
      "Accuracy after query no. 83: 0.885023\n",
      "Accuracy after query no. 84: 0.877334\n",
      "Accuracy after query no. 85: 0.873885\n",
      "Accuracy after query no. 86: 0.865336\n",
      "Accuracy after query no. 87: 0.877603\n",
      "Accuracy after query no. 88: 0.878827\n",
      "Accuracy after query no. 89: 0.878350\n",
      "Accuracy after query no. 90: 0.878298\n",
      "Accuracy after query no. 91: 0.877820\n",
      "Accuracy after query no. 92: 0.866269\n",
      "Accuracy after query no. 93: 0.878142\n",
      "Accuracy after query no. 94: 0.878517\n",
      "Accuracy after query no. 95: 0.879318\n",
      "Accuracy after query no. 96: 0.879266\n",
      "Accuracy after query no. 97: 0.883056\n",
      "Accuracy after query no. 98: 0.883433\n",
      "Accuracy after query no. 99: 0.885092\n",
      "Accuracy after query no. 100: 0.884188\n",
      "Accuracy after query no. 101: 0.884139\n",
      "Accuracy after query no. 102: 0.885372\n",
      "Accuracy after query no. 103: 0.884467\n",
      "Accuracy after query no. 104: 0.885702\n",
      "Accuracy after query no. 105: 0.885653\n",
      "Accuracy after query no. 106: 0.887318\n",
      "Accuracy after query no. 107: 0.887270\n",
      "Accuracy after query no. 108: 0.886364\n",
      "Accuracy after query no. 109: 0.888460\n",
      "Accuracy after query no. 110: 0.890987\n",
      "Accuracy after query no. 111: 0.888793\n",
      "Accuracy after query no. 112: 0.890464\n",
      "Accuracy after query no. 113: 0.894714\n",
      "Accuracy after query no. 114: 0.889080\n",
      "Accuracy after query no. 115: 0.888172\n",
      "Accuracy after query no. 116: 0.888554\n",
      "Accuracy after query no. 117: 0.888937\n",
      "Accuracy after query no. 118: 0.888458\n",
      "Accuracy after query no. 119: 0.891857\n",
      "Accuracy after query no. 120: 0.892241\n",
      "Accuracy after query no. 121: 0.889608\n",
      "Accuracy after query no. 122: 0.895168\n",
      "Accuracy after query no. 123: 0.891670\n",
      "Accuracy after query no. 124: 0.895941\n",
      "Accuracy after query no. 125: 0.890281\n",
      "Accuracy after query no. 126: 0.896283\n",
      "Accuracy after query no. 127: 0.891915\n",
      "Accuracy after query no. 128: 0.894896\n",
      "Accuracy after query no. 129: 0.895283\n",
      "Accuracy after query no. 130: 0.887879\n",
      "Accuracy after query no. 131: 0.894327\n",
      "Accuracy after query no. 132: 0.888648\n",
      "Accuracy after query no. 133: 0.887300\n",
      "Accuracy after query no. 134: 0.892454\n",
      "Accuracy after query no. 135: 0.896312\n",
      "Accuracy after query no. 136: 0.893663\n",
      "Accuracy after query no. 137: 0.895354\n",
      "Accuracy after query no. 138: 0.896177\n",
      "Accuracy after query no. 139: 0.893959\n",
      "Accuracy after query no. 140: 0.894348\n",
      "Accuracy after query no. 141: 0.894737\n",
      "Accuracy after query no. 142: 0.894691\n",
      "Accuracy after query no. 143: 0.895081\n",
      "Accuracy after query no. 144: 0.895035\n",
      "Accuracy after query no. 145: 0.895425\n",
      "Accuracy after query no. 146: 0.895815\n",
      "Accuracy after query no. 147: 0.895770\n",
      "Accuracy after query no. 148: 0.896161\n",
      "Accuracy after query no. 149: 0.895679\n",
      "Accuracy after query no. 150: 0.894760\n",
      "Accuracy after query no. 151: 0.896024\n",
      "Accuracy after query no. 152: 0.896416\n",
      "Accuracy after query no. 153: 0.896371\n",
      "Accuracy after query no. 154: 0.896325\n",
      "Accuracy after query no. 155: 0.895842\n",
      "Accuracy after query no. 156: 0.896235\n",
      "Accuracy after query no. 157: 0.896189\n",
      "Accuracy after query no. 158: 0.896582\n",
      "Accuracy after query no. 159: 0.896975\n",
      "Accuracy after query no. 160: 0.897807\n",
      "Accuracy after query no. 161: 0.898201\n",
      "Accuracy after query no. 162: 0.897717\n",
      "Accuracy after query no. 163: 0.898112\n",
      "Accuracy after query no. 164: 0.898067\n",
      "Accuracy after query no. 165: 0.898022\n",
      "Accuracy after query no. 166: 0.897977\n",
      "Accuracy after query no. 167: 0.898372\n",
      "Accuracy after query no. 168: 0.898768\n",
      "Accuracy after query no. 169: 0.899163\n",
      "Accuracy after query no. 170: 0.899559\n",
      "Accuracy after query no. 171: 0.899956\n",
      "Accuracy after query no. 172: 0.899912\n",
      "Accuracy after query no. 173: 0.899868\n",
      "Accuracy after query no. 174: 0.899823\n",
      "Accuracy after query no. 175: 0.900221\n",
      "Accuracy after query no. 176: 0.900618\n",
      "Accuracy after query no. 177: 0.901016\n",
      "Accuracy after query no. 178: 0.900973\n",
      "Accuracy after query no. 179: 0.900929\n",
      "Accuracy after query no. 180: 0.900885\n",
      "Accuracy after query no. 181: 0.901284\n",
      "Accuracy after query no. 182: 0.901240\n",
      "Accuracy after query no. 183: 0.901196\n",
      "Accuracy after query no. 184: 0.901596\n",
      "Accuracy after query no. 185: 0.901552\n",
      "Accuracy after query no. 186: 0.901952\n",
      "Accuracy after query no. 187: 0.901909\n",
      "Accuracy after query no. 188: 0.901865\n",
      "Accuracy after query no. 189: 0.901821\n",
      "Accuracy after query no. 190: 0.901778\n",
      "Accuracy after query no. 191: 0.901734\n",
      "Accuracy after query no. 192: 0.901690\n",
      "Accuracy after query no. 193: 0.902092\n",
      "Accuracy after query no. 194: 0.902493\n",
      "Accuracy after query no. 195: 0.902895\n",
      "Accuracy after query no. 196: 0.903298\n",
      "Accuracy after query no. 197: 0.903700\n",
      "Accuracy after query no. 198: 0.903657\n",
      "Accuracy after query no. 199: 0.904061\n",
      "Accuracy after query no. 200: 0.904018\n",
      "Accuracy after query no. 201: 0.904422\n",
      "Accuracy after query no. 202: 0.904379\n",
      "Accuracy after query no. 203: 0.904783\n",
      "Accuracy after query no. 204: 0.904741\n",
      "Accuracy after query no. 205: 0.905145\n",
      "Accuracy after query no. 206: 0.904655\n",
      "Accuracy after query no. 207: 0.905508\n",
      "Accuracy after query no. 208: 0.905466\n",
      "Accuracy after query no. 209: 0.905872\n",
      "Accuracy after query no. 210: 0.905830\n",
      "Accuracy after query no. 211: 0.905787\n",
      "Accuracy after query no. 212: 0.906194\n",
      "Accuracy after query no. 213: 0.906152\n",
      "Accuracy after query no. 214: 0.906559\n",
      "Accuracy after query no. 215: 0.906966\n"
     ]
    },
    {
     "name": "stdout",
     "output_type": "stream",
     "text": [
      "Accuracy after query no. 216: 0.906924\n",
      "Accuracy after query no. 217: 0.906883\n",
      "Accuracy after query no. 218: 0.907291\n",
      "Accuracy after query no. 219: 0.907699\n",
      "Accuracy after query no. 220: 0.907658\n",
      "Accuracy after query no. 221: 0.908067\n",
      "Accuracy after query no. 222: 0.908025\n",
      "Accuracy after query no. 223: 0.908435\n",
      "Accuracy after query no. 224: 0.908845\n",
      "Accuracy after query no. 225: 0.908804\n",
      "Accuracy after query no. 226: 0.908762\n",
      "Accuracy after query no. 227: 0.908721\n",
      "Accuracy after query no. 228: 0.908680\n",
      "Accuracy after query no. 229: 0.908639\n",
      "Accuracy after query no. 230: 0.909050\n",
      "Accuracy after query no. 231: 0.909009\n",
      "Accuracy after query no. 232: 0.908967\n",
      "Accuracy after query no. 233: 0.908926\n",
      "Accuracy after query no. 234: 0.908885\n",
      "Accuracy after query no. 235: 0.908844\n",
      "Accuracy after query no. 236: 0.909256\n",
      "Accuracy after query no. 237: 0.909215\n",
      "Accuracy after query no. 238: 0.909173\n",
      "Accuracy after query no. 239: 0.909587\n",
      "Accuracy after query no. 240: 0.909545\n",
      "Accuracy after query no. 241: 0.909504\n",
      "Accuracy after query no. 242: 0.909463\n",
      "Accuracy after query no. 243: 0.909422\n",
      "Accuracy after query no. 244: 0.909381\n",
      "======================================\n",
      "By just labelling  9.99 % of total data accuracy of  0.909  % is achieved on the unseen data\n"
     ]
    }
   ],
   "source": [
    "act_data = short_df.copy()\n",
    "accuracy_list = []\n",
    "\n",
    "# initialising\n",
    "train_idx = seed_index\n",
    "X_train = X[train_idx]\n",
    "y_train = Y[train_idx]\n",
    " \n",
    "# generating the pool\n",
    "X_pool = np.delete(X, train_idx, axis=0)\n",
    "y_pool = np.delete(Y, train_idx)\n",
    "\n",
    "act_data = act_data.drop(axis=0,index = train_idx)\n",
    "act_data.reset_index(drop = True,inplace=True)\n",
    "\n",
    "\n",
    "# initializing the active learner\n",
    "# lr = LogisticRegression()\n",
    "nb = SVC(kernel='linear', probability=True)\n",
    "learner = ActiveLearner(\n",
    "#     estimator = lr,\n",
    "    estimator = nb,\n",
    "#     estimator = RandomForestClassifier(n_estimators=5),\n",
    "#     estimator=KNeighborsClassifier(n_neighbors=3),\n",
    "    X_training=X_train, y_training=y_train\n",
    ")\n",
    "\n",
    "# pool-based sampling\n",
    "n_queries = int(len(X)/10)\n",
    "for idx in range(n_queries):\n",
    "    query_idx, query_instance = learner.query(X_pool)\n",
    "#     print(\"\\nQ: \", act_data.loc[int(query_idx),'question'])\n",
    "#     print(\"A: \",act_data.loc[int(query_idx),'student_answer'])\n",
    "#     print(\"Actual grade: \",y_pool[query_idx].reshape(1, ))\n",
    "#     print (\"Class probabilities: \",learner.predict_proba(X_pool[query_idx].reshape(1, -1)))\n",
    "#     human_label = int(input(\"\\nGive me a grade 0 or 1:\"))\n",
    "    \n",
    "    learner.teach(\n",
    "        X=X_pool[query_idx].reshape(1, -1),\n",
    "        y=y_pool[query_idx].reshape(1, )\n",
    "    )\n",
    "    \n",
    "    # remove queried instance from pool\n",
    "    X_pool = np.delete(X_pool, query_idx, axis=0)\n",
    "    y_pool = np.delete(y_pool, query_idx)\n",
    "    \n",
    "    act_data = act_data.drop(axis=0,index = query_idx)\n",
    "    act_data.reset_index(drop=True, inplace=True)\n",
    "    \n",
    "    accuracy_list.append(learner.score(X_pool,y_pool))\n",
    "    print('Accuracy after query no. %d: %f' % (idx+1, learner.score(X_pool, y_pool)))\n",
    "print(\"======================================\")\n",
    "print(\"By just labelling \",round(n_queries*100.0/len(X),2),\"% of total data accuracy of \", round(learner.score(X_pool, y_pool),3), \" % is achieved on the unseen data\"  )"
   ]
  },
  {
   "cell_type": "markdown",
   "metadata": {},
   "source": [
    "## Regular supervised task"
   ]
  },
  {
   "cell_type": "code",
   "execution_count": 30,
   "metadata": {},
   "outputs": [],
   "source": [
    "from sklearn.model_selection import train_test_split"
   ]
  },
  {
   "cell_type": "code",
   "execution_count": 31,
   "metadata": {},
   "outputs": [],
   "source": [
    "check_X = np.copy(X)\n",
    "check_Y = np.copy(Y)\n",
    "\n",
    "X_train,X_test,Y_train,Y_test = train_test_split(check_X,check_Y,test_size = 0.2)"
   ]
  },
  {
   "cell_type": "code",
   "execution_count": 32,
   "metadata": {},
   "outputs": [
    {
     "name": "stdout",
     "output_type": "stream",
     "text": [
      "0.8609406952965235\n"
     ]
    }
   ],
   "source": [
    "# logisticRegr = LogisticRegression()\n",
    "nb.fit(X_train, Y_train)\n",
    "score = nb.score(X_test, Y_test)\n",
    "\n",
    "print(score)"
   ]
  },
  {
   "cell_type": "code",
   "execution_count": 33,
   "metadata": {},
   "outputs": [
    {
     "data": {
      "image/png": "[encoded data removed]",
      "text/plain": [
       "<Figure size 432x288 with 1 Axes>"
      ]
     },
     "metadata": {},
     "output_type": "display_data"
    }
   ],
   "source": [
    "supervised_accuracy = [score for x in range(0,n_queries)]\n",
    "\n",
    "plt.figure()\n",
    "plt.plot(np.linspace(0,n_queries-1,n_queries),supervised_accuracy)\n",
    "plt.plot(accuracy_list)\n",
    "plt.title(\"Accuracy after every query\")\n",
    "plt.xlabel(\"Query number\")\n",
    "plt.ylabel(\"Accuracy\")\n",
    "plt.legend([\"Supervised\", \"Active Learning\"], loc=\"lower right\")\n",
    "plt.show()"
   ]
  },
  {
   "cell_type": "code",
   "execution_count": null,
   "metadata": {},
   "outputs": [],
   "source": []
  }
 ],
 "metadata": {
  "kernelspec": {
   "display_name": "nlgeval",
   "language": "python",
   "name": "maluuba"
  },
  "language_info": {
   "codemirror_mode": {
    "name": "ipython",
    "version": 3
   },
   "file_extension": ".py",
   "mimetype": "text/x-python",
   "name": "python",
   "nbconvert_exporter": "python",
   "pygments_lexer": "ipython3",
   "version": "3.6.6"
  }
 },
 "nbformat": 4,
 "nbformat_minor": 2
}
