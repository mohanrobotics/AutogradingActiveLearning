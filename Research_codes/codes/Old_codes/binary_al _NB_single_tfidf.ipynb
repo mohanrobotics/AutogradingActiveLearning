{
 "cells": [
  {
   "cell_type": "markdown",
   "metadata": {},
   "source": [
    "# Binary classification - single_model using Naive Bayes(Tf-Idf)"
   ]
  },
  {
   "cell_type": "markdown",
   "metadata": {},
   "source": [
    "# Importing and Preprocessing"
   ]
  },
  {
   "cell_type": "markdown",
   "metadata": {},
   "source": [
    "## Importing libraries"
   ]
  },
  {
   "cell_type": "code",
   "execution_count": 2,
   "metadata": {},
   "outputs": [],
   "source": [
    "#### import numpy as np\n",
    "import pandas as pd\n",
    "import matplotlib.pyplot as plt\n",
    "import numpy as np\n",
    "\n",
    "from nltk.corpus import stopwords\n",
    "from nltk.stem import PorterStemmer\n",
    "from nltk.tokenize import word_tokenize\n",
    "from textblob import Word\n",
    "from textblob import TextBlob\n",
    "\n",
    "from collections import Counter\n",
    "from sklearn.model_selection import train_test_split\n",
    "from sklearn.feature_extraction.text import CountVectorizer\n",
    "from sklearn.feature_extraction.text import TfidfVectorizer\n",
    "from sklearn.linear_model import LogisticRegression\n",
    "\n",
    "from sklearn.decomposition import PCA\n",
    "from sklearn.datasets import load_iris\n",
    "from sklearn.neighbors import KNeighborsClassifier\n",
    "from sklearn.ensemble import RandomForestClassifier\n",
    "from sklearn.naive_bayes import MultinomialNB\n",
    "\n",
    "from modAL.models import ActiveLearner\n",
    "from modAL.models import ActiveLearner\n",
    "\n",
    "import en_core_web_sm\n",
    "nlp = en_core_web_sm.load()\n",
    "\n",
    "%matplotlib inline"
   ]
  },
  {
   "cell_type": "markdown",
   "metadata": {},
   "source": [
    "## Importing files"
   ]
  },
  {
   "cell_type": "code",
   "execution_count": 3,
   "metadata": {},
   "outputs": [],
   "source": [
    "original_data = pd.read_csv('../dataset/mohler2_cleaned.csv' ,dtype = {'question_number':str})\n",
    "original_data = original_data.drop(labels='Unnamed: 0', axis=1)\n",
    "original_data = original_data.rename(columns={'question_number':'question_id','question_text':'question','answer_model':'ref_answer','answer_student':'student_answer','score_avg':'grade'})"
   ]
  },
  {
   "cell_type": "markdown",
   "metadata": {},
   "source": [
    "## Preprocessing"
   ]
  },
  {
   "cell_type": "code",
   "execution_count": 4,
   "metadata": {},
   "outputs": [],
   "source": [
    "df = original_data.copy()\n",
    "\n",
    "#converting to lower case\n",
    "df['ref_modified'] = df['ref_answer'].apply(lambda x: \" \".join(x.lower() for x in x.split()))\n",
    "df['student_modified'] = df['student_answer'].apply(lambda x: \" \".join(x.lower() for x in x.split()))\n",
    "\n",
    "#punctuation removal\n",
    "df['ref_modified'] = df['ref_modified'].str.replace('[^\\w\\s]','')\n",
    "df['student_modified'] = df['student_modified'].str.replace('[^\\w\\s]','')\n",
    "\n",
    "#stop word removal\n",
    "stop = stopwords.words('english')\n",
    "df['ref_modified'] = df['ref_modified'].apply(lambda x: \" \".join(x for x in x.split() if x not in stop))\n",
    "df['student_modified'] = df['student_modified'].apply(lambda x: \" \".join(x for x in x.split() if x not in stop))\n",
    "\n",
    "\n",
    "#lemmatisation\n",
    "df['ref_modified'] = df['ref_modified'].apply(lambda x: \" \".join([Word(word).lemmatize() for word in word_tokenize(x)]))\n",
    "df['student_modified'] = df['student_modified'].apply(lambda x: \" \".join([Word(word).lemmatize() for word in word_tokenize(x)]))"
   ]
  },
  {
   "cell_type": "markdown",
   "metadata": {},
   "source": [
    "# Gathering required features"
   ]
  },
  {
   "cell_type": "code",
   "execution_count": 5,
   "metadata": {},
   "outputs": [],
   "source": [
    "short_df = df[['question_id','question','student_answer','student_modified','ref_modified' ,'grade']]\n",
    "short_df['status'] = short_df['grade'] >= 3\n",
    "short_df['status'] = short_df['status'].astype(int)\n",
    "ques_id_list = list(short_df['question_id'].unique())\n",
    "\n",
    "# FOR ONE BY ONE QUESTION\n",
    "# short_df = short_df[short_df['question_id'] == ques_id_list[0]]\n",
    "# ques_id_list.pop(0)\n",
    "# ques_id_list\n",
    "# ======================"
   ]
  },
  {
   "cell_type": "markdown",
   "metadata": {},
   "source": [
    "# Bag of words"
   ]
  },
  {
   "cell_type": "code",
   "execution_count": 6,
   "metadata": {},
   "outputs": [],
   "source": [
    "# Tf-idf creation\n",
    "Tf = TfidfVectorizer()\n",
    "tfidf_vector = Tf.fit_transform(df['student_modified'])\n",
    "tfidf_vector = tfidf_vector.toarray()\n",
    "\n",
    "X = tfidf_vector\n",
    "Y = short_df['status'].values"
   ]
  },
  {
   "cell_type": "markdown",
   "metadata": {},
   "source": [
    "# Seeding"
   ]
  },
  {
   "cell_type": "code",
   "execution_count": 7,
   "metadata": {},
   "outputs": [
    {
     "data": {
      "text/plain": [
       "[0, 5]"
      ]
     },
     "execution_count": 7,
     "metadata": {},
     "output_type": "execute_result"
    }
   ],
   "source": [
    "#getting the seed index\n",
    "classes = short_df['status'].unique()\n",
    "seed_index = []\n",
    "for i in classes:\n",
    "    seed_index.append(short_df['status'][short_df['status']==i].index[0])\n",
    "seed_index"
   ]
  },
  {
   "cell_type": "code",
   "execution_count": 8,
   "metadata": {},
   "outputs": [
    {
     "name": "stdout",
     "output_type": "stream",
     "text": [
      "Accuracy after query no. 1: 0.129151\n",
      "Accuracy after query no. 2: 0.374077\n",
      "Accuracy after query no. 3: 0.131719\n",
      "Accuracy after query no. 4: 0.392447\n",
      "Accuracy after query no. 5: 0.871047\n",
      "Accuracy after query no. 6: 0.870994\n",
      "Accuracy after query no. 7: 0.855323\n",
      "Accuracy after query no. 8: 0.871299\n",
      "Accuracy after query no. 9: 0.871246\n",
      "Accuracy after query no. 10: 0.871193\n",
      "Accuracy after query no. 11: 0.871140\n",
      "Accuracy after query no. 12: 0.871087\n",
      "Accuracy after query no. 13: 0.871446\n",
      "Accuracy after query no. 14: 0.871393\n",
      "Accuracy after query no. 15: 0.871340\n",
      "Accuracy after query no. 16: 0.871700\n",
      "Accuracy after query no. 17: 0.871647\n",
      "Accuracy after query no. 18: 0.871594\n",
      "Accuracy after query no. 19: 0.871541\n",
      "Accuracy after query no. 20: 0.871488\n",
      "Accuracy after query no. 21: 0.871848\n",
      "Accuracy after query no. 22: 0.872208\n",
      "Accuracy after query no. 23: 0.872569\n",
      "Accuracy after query no. 24: 0.872517\n",
      "Accuracy after query no. 25: 0.872050\n",
      "Accuracy after query no. 26: 0.864126\n",
      "Accuracy after query no. 27: 0.867385\n",
      "Accuracy after query no. 28: 0.872305\n",
      "Accuracy after query no. 29: 0.868519\n",
      "Accuracy after query no. 30: 0.873029\n",
      "Accuracy after query no. 31: 0.873391\n",
      "Accuracy after query no. 32: 0.873339\n",
      "Accuracy after query no. 33: 0.873702\n",
      "Accuracy after query no. 34: 0.873649\n",
      "Accuracy after query no. 35: 0.873597\n",
      "Accuracy after query no. 36: 0.873544\n",
      "Accuracy after query no. 37: 0.873491\n",
      "Accuracy after query no. 38: 0.873439\n",
      "Accuracy after query no. 39: 0.873386\n",
      "Accuracy after query no. 40: 0.873333\n",
      "Accuracy after query no. 41: 0.873281\n",
      "Accuracy after query no. 42: 0.873228\n",
      "Accuracy after query no. 43: 0.873592\n",
      "Accuracy after query no. 44: 0.873539\n",
      "Accuracy after query no. 45: 0.873486\n",
      "Accuracy after query no. 46: 0.873434\n",
      "Accuracy after query no. 47: 0.873381\n",
      "Accuracy after query no. 48: 0.873746\n",
      "Accuracy after query no. 49: 0.873693\n",
      "Accuracy after query no. 50: 0.873640\n",
      "Accuracy after query no. 51: 0.873587\n",
      "Accuracy after query no. 52: 0.873953\n",
      "Accuracy after query no. 53: 0.874319\n",
      "Accuracy after query no. 54: 0.874267\n",
      "Accuracy after query no. 55: 0.874214\n",
      "Accuracy after query no. 56: 0.874161\n",
      "Accuracy after query no. 57: 0.874108\n",
      "Accuracy after query no. 58: 0.874055\n",
      "Accuracy after query no. 59: 0.874003\n",
      "Accuracy after query no. 60: 0.873950\n",
      "Accuracy after query no. 61: 0.873897\n",
      "Accuracy after query no. 62: 0.874264\n",
      "Accuracy after query no. 63: 0.874211\n",
      "Accuracy after query no. 64: 0.874158\n",
      "Accuracy after query no. 65: 0.874105\n",
      "Accuracy after query no. 66: 0.874052\n",
      "Accuracy after query no. 67: 0.874421\n",
      "Accuracy after query no. 68: 0.874368\n",
      "Accuracy after query no. 69: 0.874736\n",
      "Accuracy after query no. 70: 0.875105\n",
      "Accuracy after query no. 71: 0.875053\n",
      "Accuracy after query no. 72: 0.875422\n",
      "Accuracy after query no. 73: 0.875370\n",
      "Accuracy after query no. 74: 0.875317\n",
      "Accuracy after query no. 75: 0.875264\n",
      "Accuracy after query no. 76: 0.875212\n",
      "Accuracy after query no. 77: 0.875159\n",
      "Accuracy after query no. 78: 0.875529\n",
      "Accuracy after query no. 79: 0.875476\n",
      "Accuracy after query no. 80: 0.875424\n",
      "Accuracy after query no. 81: 0.875371\n",
      "Accuracy after query no. 82: 0.875742\n",
      "Accuracy after query no. 83: 0.876538\n",
      "Accuracy after query no. 84: 0.876486\n",
      "Accuracy after query no. 85: 0.876858\n",
      "Accuracy after query no. 86: 0.877230\n",
      "Accuracy after query no. 87: 0.877178\n",
      "Accuracy after query no. 88: 0.877126\n",
      "Accuracy after query no. 89: 0.877499\n",
      "Accuracy after query no. 90: 0.877447\n",
      "Accuracy after query no. 91: 0.877820\n",
      "Accuracy after query no. 92: 0.880750\n",
      "Accuracy after query no. 93: 0.880273\n",
      "Accuracy after query no. 94: 0.880222\n",
      "Accuracy after query no. 95: 0.878465\n",
      "Accuracy after query no. 96: 0.880546\n",
      "Accuracy after query no. 97: 0.880495\n",
      "Accuracy after query no. 98: 0.880444\n",
      "Accuracy after query no. 99: 0.880820\n",
      "Accuracy after query no. 100: 0.880769\n",
      "Accuracy after query no. 101: 0.881146\n",
      "Accuracy after query no. 102: 0.881095\n",
      "Accuracy after query no. 103: 0.881044\n",
      "Accuracy after query no. 104: 0.880993\n",
      "Accuracy after query no. 105: 0.880942\n",
      "Accuracy after query no. 106: 0.880891\n",
      "Accuracy after query no. 107: 0.880840\n",
      "Accuracy after query no. 108: 0.880789\n",
      "Accuracy after query no. 109: 0.881167\n",
      "Accuracy after query no. 110: 0.881545\n",
      "Accuracy after query no. 111: 0.881494\n",
      "Accuracy after query no. 112: 0.881443\n",
      "Accuracy after query no. 113: 0.881392\n",
      "Accuracy after query no. 114: 0.881341\n",
      "Accuracy after query no. 115: 0.881290\n",
      "Accuracy after query no. 116: 0.881239\n",
      "Accuracy after query no. 117: 0.881188\n",
      "Accuracy after query no. 118: 0.881137\n",
      "Accuracy after query no. 119: 0.881517\n",
      "Accuracy after query no. 120: 0.881466\n",
      "Accuracy after query no. 121: 0.881414\n",
      "Accuracy after query no. 122: 0.881363\n",
      "Accuracy after query no. 123: 0.881312\n",
      "Accuracy after query no. 124: 0.881693\n",
      "Accuracy after query no. 125: 0.881641\n",
      "Accuracy after query no. 126: 0.881590\n",
      "Accuracy after query no. 127: 0.881971\n",
      "Accuracy after query no. 128: 0.882353\n",
      "Accuracy after query no. 129: 0.882735\n",
      "Accuracy after query no. 130: 0.882684\n",
      "Accuracy after query no. 131: 0.882633\n",
      "Accuracy after query no. 132: 0.882582\n",
      "Accuracy after query no. 133: 0.882965\n",
      "Accuracy after query no. 134: 0.883348\n",
      "Accuracy after query no. 135: 0.883297\n",
      "Accuracy after query no. 136: 0.883247\n",
      "Accuracy after query no. 137: 0.883630\n",
      "Accuracy after query no. 138: 0.883579\n",
      "Accuracy after query no. 139: 0.883529\n",
      "Accuracy after query no. 140: 0.883478\n",
      "Accuracy after query no. 141: 0.883863\n",
      "Accuracy after query no. 142: 0.883812\n",
      "Accuracy after query no. 143: 0.883761\n",
      "Accuracy after query no. 144: 0.884146\n",
      "Accuracy after query no. 145: 0.884096\n",
      "Accuracy after query no. 146: 0.884917\n",
      "Accuracy after query no. 147: 0.884867\n",
      "Accuracy after query no. 148: 0.885253\n",
      "Accuracy after query no. 149: 0.885203\n",
      "Accuracy after query no. 150: 0.885153\n",
      "Accuracy after query no. 151: 0.885103\n",
      "Accuracy after query no. 152: 0.891171\n",
      "Accuracy after query no. 153: 0.891124\n",
      "Accuracy after query no. 154: 0.891076\n",
      "Accuracy after query no. 155: 0.891028\n",
      "Accuracy after query no. 156: 0.890981\n",
      "Accuracy after query no. 157: 0.890933\n",
      "Accuracy after query no. 158: 0.890885\n",
      "Accuracy after query no. 159: 0.890837\n",
      "Accuracy after query no. 160: 0.891228\n",
      "Accuracy after query no. 161: 0.891180\n",
      "Accuracy after query no. 162: 0.891133\n",
      "Accuracy after query no. 163: 0.891524\n",
      "Accuracy after query no. 164: 0.891916\n",
      "Accuracy after query no. 165: 0.892308\n",
      "Accuracy after query no. 166: 0.892700\n",
      "Accuracy after query no. 167: 0.892653\n",
      "Accuracy after query no. 168: 0.893046\n",
      "Accuracy after query no. 169: 0.893439\n",
      "Accuracy after query no. 170: 0.893392\n",
      "Accuracy after query no. 171: 0.893345\n",
      "Accuracy after query no. 172: 0.893298\n",
      "Accuracy after query no. 173: 0.893251\n",
      "Accuracy after query no. 174: 0.893645\n",
      "Accuracy after query no. 175: 0.893598\n",
      "Accuracy after query no. 176: 0.893551\n",
      "Accuracy after query no. 177: 0.893504\n",
      "Accuracy after query no. 178: 0.893899\n",
      "Accuracy after query no. 179: 0.893852\n",
      "Accuracy after query no. 180: 0.893805\n",
      "Accuracy after query no. 181: 0.894201\n",
      "Accuracy after query no. 182: 0.894154\n",
      "Accuracy after query no. 183: 0.894107\n",
      "Accuracy after query no. 184: 0.894060\n",
      "Accuracy after query no. 185: 0.894013\n",
      "Accuracy after query no. 186: 0.893966\n",
      "Accuracy after query no. 187: 0.893919\n",
      "Accuracy after query no. 188: 0.893872\n",
      "Accuracy after query no. 189: 0.893825\n",
      "Accuracy after query no. 190: 0.893778\n",
      "Accuracy after query no. 191: 0.893731\n",
      "Accuracy after query no. 192: 0.893683\n",
      "Accuracy after query no. 193: 0.893636\n",
      "Accuracy after query no. 194: 0.894034\n",
      "Accuracy after query no. 195: 0.893987\n",
      "Accuracy after query no. 196: 0.893939\n",
      "Accuracy after query no. 197: 0.893892\n",
      "Accuracy after query no. 198: 0.893845\n",
      "Accuracy after query no. 199: 0.893797\n",
      "Accuracy after query no. 200: 0.893750\n",
      "Accuracy after query no. 201: 0.893703\n",
      "Accuracy after query no. 202: 0.893655\n",
      "Accuracy after query no. 203: 0.894055\n",
      "Accuracy after query no. 204: 0.894454\n",
      "Accuracy after query no. 205: 0.894407\n",
      "Accuracy after query no. 206: 0.894808\n",
      "Accuracy after query no. 207: 0.895208\n",
      "Accuracy after query no. 208: 0.895161\n",
      "Accuracy after query no. 209: 0.895563\n",
      "Accuracy after query no. 210: 0.895516\n",
      "Accuracy after query no. 211: 0.895469\n",
      "Accuracy after query no. 212: 0.895871\n",
      "Accuracy after query no. 213: 0.896273\n",
      "Accuracy after query no. 214: 0.896226\n"
     ]
    },
    {
     "name": "stdout",
     "output_type": "stream",
     "text": [
      "Accuracy after query no. 215: 0.896180\n",
      "Accuracy after query no. 216: 0.896133\n",
      "Accuracy after query no. 217: 0.896086\n",
      "Accuracy after query no. 218: 0.896490\n",
      "Accuracy after query no. 219: 0.896443\n",
      "Accuracy after query no. 220: 0.896396\n",
      "Accuracy after query no. 221: 0.896350\n",
      "Accuracy after query no. 222: 0.896303\n",
      "Accuracy after query no. 223: 0.896256\n",
      "Accuracy after query no. 224: 0.896661\n",
      "Accuracy after query no. 225: 0.896614\n",
      "Accuracy after query no. 226: 0.896567\n",
      "Accuracy after query no. 227: 0.896521\n",
      "Accuracy after query no. 228: 0.896474\n",
      "Accuracy after query no. 229: 0.896427\n",
      "Accuracy after query no. 230: 0.896380\n",
      "Accuracy after query no. 231: 0.896333\n",
      "Accuracy after query no. 232: 0.896286\n",
      "Accuracy after query no. 233: 0.896239\n",
      "Accuracy after query no. 234: 0.896646\n",
      "Accuracy after query no. 235: 0.897052\n",
      "Accuracy after query no. 236: 0.897005\n",
      "Accuracy after query no. 237: 0.896959\n",
      "Accuracy after query no. 238: 0.896912\n",
      "Accuracy after query no. 239: 0.896865\n",
      "Accuracy after query no. 240: 0.897273\n",
      "Accuracy after query no. 241: 0.897681\n",
      "Accuracy after query no. 242: 0.898089\n",
      "Accuracy after query no. 243: 0.898498\n",
      "Accuracy after query no. 244: 0.898907\n",
      "======================================\n",
      "By just labelling  9.99 % of total data accuracy of  0.899  % is achieved on the unseen data\n"
     ]
    }
   ],
   "source": [
    "act_data = short_df.copy()\n",
    "accuracy_list = []\n",
    "\n",
    "# initialising\n",
    "train_idx = seed_index\n",
    "X_train = X[train_idx]\n",
    "y_train = Y[train_idx]\n",
    " \n",
    "# generating the pool\n",
    "X_pool = np.delete(X, train_idx, axis=0)\n",
    "y_pool = np.delete(Y, train_idx)\n",
    "\n",
    "act_data = act_data.drop(axis=0,index = train_idx)\n",
    "act_data.reset_index(drop = True,inplace=True)\n",
    "\n",
    "\n",
    "# initializing the active learner\n",
    "# lr = LogisticRegression()\n",
    "nb = MultinomialNB()\n",
    "learner = ActiveLearner(\n",
    "#     estimator = lr,\n",
    "    estimator = nb,\n",
    "#     estimator = RandomForestClassifier(n_estimators=5),\n",
    "#     estimator=KNeighborsClassifier(n_neighbors=3),\n",
    "    X_training=X_train, y_training=y_train\n",
    ")\n",
    "\n",
    "# pool-based sampling\n",
    "n_queries = int(len(X)/10)\n",
    "for idx in range(n_queries):\n",
    "    query_idx, query_instance = learner.query(X_pool)\n",
    "#     print(\"\\nQ: \", act_data.loc[int(query_idx),'question'])\n",
    "#     print(\"A: \",act_data.loc[int(query_idx),'student_answer'])\n",
    "#     print(\"Actual grade: \",y_pool[query_idx].reshape(1, ))\n",
    "#     print (\"Class probabilities: \",learner.predict_proba(X_pool[query_idx].reshape(1, -1)))\n",
    "#     human_label = int(input(\"\\nGive me a grade 0 or 1:\"))\n",
    "    \n",
    "    learner.teach(\n",
    "        X=X_pool[query_idx].reshape(1, -1),\n",
    "        y=y_pool[query_idx].reshape(1, )\n",
    "    )\n",
    "    \n",
    "    # remove queried instance from pool\n",
    "    X_pool = np.delete(X_pool, query_idx, axis=0)\n",
    "    y_pool = np.delete(y_pool, query_idx)\n",
    "    \n",
    "    act_data = act_data.drop(axis=0,index = query_idx)\n",
    "    act_data.reset_index(drop=True, inplace=True)\n",
    "    \n",
    "    accuracy_list.append(learner.score(X,Y))\n",
    "    print('Accuracy after query no. %d: %f' % (idx+1, learner.score(X_pool, y_pool)))\n",
    "print(\"======================================\")\n",
    "print(\"By just labelling \",round(n_queries*100.0/len(X),2),\"% of total data accuracy of \", round(learner.score(X_pool, y_pool),3), \" % is achieved on the unseen data\"  )"
   ]
  },
  {
   "cell_type": "markdown",
   "metadata": {},
   "source": [
    "## Regular supervised task"
   ]
  },
  {
   "cell_type": "code",
   "execution_count": 9,
   "metadata": {},
   "outputs": [],
   "source": [
    "from sklearn.model_selection import train_test_split"
   ]
  },
  {
   "cell_type": "code",
   "execution_count": 10,
   "metadata": {},
   "outputs": [],
   "source": [
    "check_X = np.copy(X)\n",
    "check_Y = np.copy(Y)\n",
    "\n",
    "X_train,X_test,Y_train,Y_test = train_test_split(check_X,check_Y,test_size = 0.2)"
   ]
  },
  {
   "cell_type": "code",
   "execution_count": 11,
   "metadata": {},
   "outputs": [
    {
     "name": "stdout",
     "output_type": "stream",
     "text": [
      "0.8466257668711656\n"
     ]
    }
   ],
   "source": [
    "# logisticRegr = LogisticRegression()\n",
    "nb.fit(X_train, Y_train)\n",
    "score = nb.score(X_test, Y_test)\n",
    "\n",
    "print(score)"
   ]
  },
  {
   "cell_type": "code",
   "execution_count": 12,
   "metadata": {},
   "outputs": [
    {
     "data": {
      "image/png": "[encoded data removed]",
      "text/plain": [
       "<Figure size 432x288 with 1 Axes>"
      ]
     },
     "metadata": {},
     "output_type": "display_data"
    }
   ],
   "source": [
    "supervised_accuracy = [score for x in range(0,n_queries)]\n",
    "\n",
    "plt.figure()\n",
    "plt.plot(np.linspace(0,n_queries-1,n_queries),supervised_accuracy)\n",
    "plt.plot(accuracy_list)\n",
    "plt.title(\"Accuracy after every query\")\n",
    "plt.xlabel(\"Query number\")\n",
    "plt.ylabel(\"Accuracy\")\n",
    "plt.legend([\"Supervised\", \"Active Learning\"], loc=\"lower right\")\n",
    "plt.show()"
   ]
  },
  {
   "cell_type": "code",
   "execution_count": null,
   "metadata": {},
   "outputs": [],
   "source": []
  }
 ],
 "metadata": {
  "kernelspec": {
   "display_name": "nlgeval",
   "language": "python",
   "name": "maluuba"
  },
  "language_info": {
   "codemirror_mode": {
    "name": "ipython",
    "version": 3
   },
   "file_extension": ".py",
   "mimetype": "text/x-python",
   "name": "python",
   "nbconvert_exporter": "python",
   "pygments_lexer": "ipython3",
   "version": "3.6.6"
  }
 },
 "nbformat": 4,
 "nbformat_minor": 2
}
