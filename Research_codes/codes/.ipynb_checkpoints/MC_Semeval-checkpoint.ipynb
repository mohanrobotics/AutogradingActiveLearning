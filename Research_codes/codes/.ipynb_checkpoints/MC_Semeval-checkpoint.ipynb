{
 "cells": [
  {
   "cell_type": "markdown",
   "metadata": {},
   "source": [
    "# Multiclass classification - Neural Network dataset(BOW)"
   ]
  },
  {
   "cell_type": "markdown",
   "metadata": {},
   "source": [
    "# Importing and Preprocessing"
   ]
  },
  {
   "cell_type": "markdown",
   "metadata": {},
   "source": [
    "## Importing libraries"
   ]
  },
  {
   "cell_type": "code",
   "execution_count": 9,
   "metadata": {},
   "outputs": [],
   "source": [
    "#### import numpy as np\n",
    "import pandas as pd\n",
    "import matplotlib.pyplot as plt\n",
    "import numpy as np\n",
    "\n",
    "from nltk.corpus import stopwords\n",
    "from nltk.stem import PorterStemmer\n",
    "from nltk.tokenize import word_tokenize\n",
    "from textblob import Word\n",
    "from textblob import TextBlob\n",
    "\n",
    "from collections import Counter\n",
    "from sklearn.model_selection import train_test_split\n",
    "from sklearn.feature_extraction.text import CountVectorizer\n",
    "from sklearn.feature_extraction.text import TfidfVectorizer\n",
    "from sklearn.linear_model import LogisticRegression\n",
    "from sklearn.svm import SVC\n",
    "\n",
    "\n",
    "from sklearn.decomposition import PCA\n",
    "from sklearn.datasets import load_iris\n",
    "from sklearn.neighbors import KNeighborsClassifier\n",
    "from sklearn.ensemble import RandomForestClassifier\n",
    "from sklearn.naive_bayes import MultinomialNB\n",
    "\n",
    "from modAL.models import ActiveLearner\n",
    "from modAL.models import ActiveLearner\n",
    "\n",
    "import en_core_web_sm\n",
    "nlp = en_core_web_sm.load()\n",
    "\n",
    "%matplotlib inline"
   ]
  },
  {
   "cell_type": "markdown",
   "metadata": {},
   "source": [
    "## Importing files"
   ]
  },
  {
   "cell_type": "code",
   "execution_count": 2,
   "metadata": {},
   "outputs": [],
   "source": [
    "original_data = pd.read_pickle(\"../dataset/nn_cleaned.pkl\")"
   ]
  },
  {
   "cell_type": "markdown",
   "metadata": {},
   "source": [
    "## Preprocessing"
   ]
  },
  {
   "cell_type": "code",
   "execution_count": 3,
   "metadata": {},
   "outputs": [],
   "source": [
    "df = original_data.copy()\n",
    "\n",
    "#converting to lower case\n",
    "# df['ref_modified'] = df['ref_answer'].apply(lambda x: \" \".join(x.lower() for x in x.split()))\n",
    "df['student_modified'] = df['student_answer'].apply(lambda x: \" \".join(x.lower() for x in x.split()))\n",
    "\n",
    "#punctuation removal\n",
    "# df['ref_modified'] = df['ref_modified'].str.replace('[^\\w\\s]','')\n",
    "df['student_modified'] = df['student_modified'].str.replace('[^\\w\\s]','')\n",
    "\n",
    "#stop word removal\n",
    "stop = stopwords.words('english')\n",
    "# df['ref_modified'] = df['ref_modified'].apply(lambda x: \" \".join(x for x in x.split() if x not in stop))\n",
    "df['student_modified'] = df['student_modified'].apply(lambda x: \" \".join(x for x in x.split() if x not in stop))\n",
    "\n",
    "\n",
    "#lemmatisation\n",
    "# df['ref_modified'] = df['ref_modified'].apply(lambda x: \" \".join([Word(word).lemmatize() for word in word_tokenize(x)]))\n",
    "df['student_modified'] = df['student_modified'].apply(lambda x: \" \".join([Word(word).lemmatize() for word in word_tokenize(x)]))"
   ]
  },
  {
   "cell_type": "markdown",
   "metadata": {},
   "source": [
    "# Gathering required features"
   ]
  },
  {
   "cell_type": "code",
   "execution_count": 4,
   "metadata": {},
   "outputs": [],
   "source": [
    "short_df = df[['question','student_answer','student_modified','grade']]\n",
    "# short_df['grades_round']= short_df['grade'].apply(lambda x: round(x))"
   ]
  },
  {
   "cell_type": "markdown",
   "metadata": {},
   "source": [
    "# Bag of words"
   ]
  },
  {
   "cell_type": "code",
   "execution_count": 5,
   "metadata": {},
   "outputs": [],
   "source": [
    "# short_df['word_count'] = short_df['student_answer'].apply(lambda x: dict(Counter(x.split())))\n",
    "\n",
    "# counting unique words in every student's answer\n",
    "CV = CountVectorizer()\n",
    "student_answer_count_vector = CV.fit_transform(short_df['student_modified'])\n",
    "student_answer_count_vector = student_answer_count_vector.toarray()\n",
    "\n",
    "X = student_answer_count_vector\n",
    "Y = short_df['grade'].values"
   ]
  },
  {
   "cell_type": "markdown",
   "metadata": {},
   "source": [
    "# Seeding"
   ]
  },
  {
   "cell_type": "code",
   "execution_count": 6,
   "metadata": {},
   "outputs": [
    {
     "data": {
      "text/plain": [
       "[0, 2, 88]"
      ]
     },
     "execution_count": 6,
     "metadata": {},
     "output_type": "execute_result"
    }
   ],
   "source": [
    "#getting the seed index\n",
    "classes = short_df['grade'].unique()\n",
    "seed_index = []\n",
    "for i in classes:\n",
    "    seed_index.append(short_df['grade'][short_df['grade']==i].index[0])\n",
    "seed_index"
   ]
  },
  {
   "cell_type": "markdown",
   "metadata": {},
   "source": [
    "# Logistic Regression"
   ]
  },
  {
   "cell_type": "code",
   "execution_count": 10,
   "metadata": {},
   "outputs": [
    {
     "name": "stdout",
     "output_type": "stream",
     "text": [
      "Accuracy after query no. 1: 0.292868\n",
      "Accuracy after query no. 2: 0.399696\n",
      "Accuracy after query no. 3: 0.401826\n",
      "Accuracy after query no. 4: 0.463415\n",
      "Accuracy after query no. 5: 0.404580\n",
      "Accuracy after query no. 6: 0.415902\n",
      "Accuracy after query no. 7: 0.399694\n",
      "Accuracy after query no. 8: 0.411043\n",
      "Accuracy after query no. 9: 0.447005\n",
      "Accuracy after query no. 10: 0.420000\n",
      "Accuracy after query no. 11: 0.389831\n",
      "Accuracy after query no. 12: 0.447531\n",
      "Accuracy after query no. 13: 0.451314\n",
      "Accuracy after query no. 14: 0.442724\n",
      "Accuracy after query no. 15: 0.458915\n",
      "Accuracy after query no. 16: 0.475155\n",
      "Accuracy after query no. 17: 0.493002\n",
      "Accuracy after query no. 18: 0.484424\n",
      "Accuracy after query no. 19: 0.499220\n",
      "Accuracy after query no. 20: 0.482812\n",
      "Accuracy after query no. 21: 0.527387\n",
      "Accuracy after query no. 22: 0.551724\n",
      "Accuracy after query no. 23: 0.576138\n",
      "Accuracy after query no. 24: 0.562893\n",
      "Accuracy after query no. 25: 0.562205\n",
      "Accuracy after query no. 26: 0.563091\n",
      "Accuracy after query no. 27: 0.573460\n",
      "Accuracy after query no. 28: 0.587025\n",
      "Accuracy after query no. 29: 0.584786\n",
      "Accuracy after query no. 30: 0.580952\n",
      "Accuracy after query no. 31: 0.589825\n",
      "Accuracy after query no. 32: 0.593949\n",
      "Accuracy after query no. 33: 0.590112\n",
      "Accuracy after query no. 34: 0.586262\n",
      "Accuracy after query no. 35: 0.596800\n",
      "Accuracy after query no. 36: 0.602564\n",
      "Accuracy after query no. 37: 0.611557\n",
      "Accuracy after query no. 38: 0.617363\n",
      "Accuracy after query no. 39: 0.615137\n",
      "Accuracy after query no. 40: 0.622581\n",
      "Accuracy after query no. 41: 0.628433\n",
      "Accuracy after query no. 42: 0.622977\n",
      "Accuracy after query no. 43: 0.622366\n",
      "Accuracy after query no. 44: 0.618506\n",
      "Accuracy after query no. 45: 0.626016\n",
      "Accuracy after query no. 46: 0.631922\n",
      "Accuracy after query no. 47: 0.629690\n",
      "Accuracy after query no. 48: 0.632353\n",
      "Accuracy after query no. 49: 0.636661\n",
      "Accuracy after query no. 50: 0.627869\n",
      "Accuracy after query no. 51: 0.632184\n",
      "Accuracy after query no. 52: 0.631579\n",
      "Accuracy after query no. 53: 0.630972\n",
      "Accuracy after query no. 54: 0.630363\n",
      "Accuracy after query no. 55: 0.623140\n",
      "Accuracy after query no. 56: 0.622517\n",
      "Accuracy after query no. 57: 0.616915\n",
      "Accuracy after query no. 58: 0.607973\n",
      "Accuracy after query no. 59: 0.605657\n",
      "Accuracy after query no. 60: 0.608333\n",
      "Accuracy after query no. 61: 0.619366\n",
      "Accuracy after query no. 62: 0.618729\n",
      "Accuracy after query no. 63: 0.604690\n",
      "Accuracy after query no. 64: 0.629195\n",
      "Accuracy after query no. 65: 0.625210\n",
      "Accuracy after query no. 66: 0.631313\n",
      "Accuracy after query no. 67: 0.629005\n",
      "Accuracy after query no. 68: 0.621622\n",
      "Accuracy after query no. 69: 0.622673\n",
      "Accuracy after query no. 70: 0.620339\n",
      "Accuracy after query no. 71: 0.623090\n",
      "Accuracy after query no. 72: 0.617347\n",
      "Accuracy after query no. 73: 0.614991\n",
      "Accuracy after query no. 74: 0.617747\n",
      "Accuracy after query no. 75: 0.620513\n",
      "Accuracy after query no. 76: 0.614726\n",
      "Accuracy after query no. 77: 0.615780\n",
      "Accuracy after query no. 78: 0.613402\n",
      "Accuracy after query no. 79: 0.612737\n",
      "Accuracy after query no. 80: 0.596552\n",
      "Accuracy after query no. 81: 0.602763\n",
      "Accuracy after query no. 82: 0.607266\n",
      "Accuracy after query no. 83: 0.623917\n",
      "Accuracy after query no. 84: 0.612847\n",
      "Accuracy after query no. 85: 0.631304\n",
      "Accuracy after query no. 86: 0.627178\n",
      "Accuracy after query no. 87: 0.628272\n",
      "Accuracy after query no. 88: 0.641608\n",
      "Accuracy after query no. 89: 0.644483\n",
      "Accuracy after query no. 90: 0.650877\n",
      "Accuracy after query no. 91: 0.636204\n",
      "Accuracy after query no. 92: 0.633803\n",
      "Accuracy after query no. 93: 0.622575\n",
      "Accuracy after query no. 94: 0.634276\n",
      "Accuracy after query no. 95: 0.637168\n",
      "Accuracy after query no. 96: 0.638298\n",
      "Accuracy after query no. 97: 0.635879\n",
      "Accuracy after query no. 98: 0.633452\n",
      "Accuracy after query no. 99: 0.622103\n",
      "Accuracy after query no. 100: 0.614286\n",
      "Accuracy after query no. 101: 0.615385\n",
      "Accuracy after query no. 102: 0.618280\n",
      "Accuracy after query no. 103: 0.612208\n",
      "Accuracy after query no. 104: 0.624101\n",
      "Accuracy after query no. 105: 0.627027\n",
      "Accuracy after query no. 106: 0.628159\n",
      "Accuracy after query no. 107: 0.632911\n",
      "Accuracy after query no. 108: 0.639493\n",
      "Accuracy after query no. 109: 0.633394\n",
      "Accuracy after query no. 110: 0.627273\n",
      "Accuracy after query no. 111: 0.641166\n",
      "Accuracy after query no. 112: 0.667883\n",
      "Accuracy after query no. 113: 0.667276\n",
      "Accuracy after query no. 114: 0.673993\n",
      "Accuracy after query no. 115: 0.653211\n",
      "Accuracy after query no. 116: 0.652574\n",
      "Accuracy after query no. 117: 0.646409\n",
      "Accuracy after query no. 118: 0.656827\n",
      "Accuracy after query no. 119: 0.661738\n",
      "Accuracy after query no. 120: 0.659259\n",
      "Accuracy after query no. 121: 0.660482\n",
      "Accuracy after query no. 122: 0.652416\n",
      "Accuracy after query no. 123: 0.657356\n",
      "Accuracy after query no. 124: 0.656716\n",
      "Accuracy after query no. 125: 0.669159\n",
      "Accuracy after query no. 126: 0.661049\n",
      "Accuracy after query no. 127: 0.651032\n",
      "Accuracy after query no. 128: 0.657895\n",
      "Accuracy after query no. 129: 0.653484\n",
      "Accuracy after query no. 130: 0.654717\n",
      "Accuracy after query no. 131: 0.654064\n",
      "Accuracy after query no. 132: 0.655303\n",
      "======================================\n",
      "By just labelling  19.91 % of total data accuracy of  0.655  % is achieved on the unseen data\n"
     ]
    }
   ],
   "source": [
    "act_data = short_df.copy()\n",
    "accuracy_list = []\n",
    "\n",
    "# initialising\n",
    "train_idx = seed_index\n",
    "X_train = X[train_idx]\n",
    "y_train = Y[train_idx]\n",
    " \n",
    "# generating the pool\n",
    "X_pool = np.delete(X, train_idx, axis=0)\n",
    "y_pool = np.delete(Y, train_idx)\n",
    "\n",
    "act_data = act_data.drop(axis=0,index = train_idx)\n",
    "act_data.reset_index(drop = True,inplace=True)\n",
    "\n",
    "\n",
    "# initializing the active learner\n",
    "lr = LogisticRegression()\n",
    "# nb = MultinomialNB()\n",
    "learner = ActiveLearner(\n",
    "    estimator = lr,\n",
    "#     estimator = nb,\n",
    "#     estimator = RandomForestClassifier(n_estimators=5),\n",
    "#     estimator=KNeighborsClassifier(n_neighbors=3),\n",
    "    X_training=X_train, y_training=y_train\n",
    ")\n",
    "\n",
    "# pool-based sampling\n",
    "n_queries = int(len(X)/5)\n",
    "for idx in range(n_queries):\n",
    "    query_idx, query_instance = learner.query(X_pool)\n",
    "#     print(\"\\nQ: \", act_data.loc[int(query_idx),'question'])\n",
    "#     print(\"A: \",act_data.loc[int(query_idx),'student_answer'])\n",
    "#     print(\"Actual grade: \",y_pool[query_idx].reshape(1, ))\n",
    "#     print (\"Class probabilities: \",learner.predict_proba(X_pool[query_idx].reshape(1, -1)))\n",
    "#     human_label = int(input(\"\\nGive me a grade 0 or 1:\"))\n",
    "    \n",
    "    learner.teach(\n",
    "        X=X_pool[query_idx].reshape(1, -1),\n",
    "        y=y_pool[query_idx].reshape(1, )\n",
    "    )\n",
    "    \n",
    "    # remove queried instance from pool\n",
    "    X_pool = np.delete(X_pool, query_idx, axis=0)\n",
    "    y_pool = np.delete(y_pool, query_idx)\n",
    "    \n",
    "    act_data = act_data.drop(axis=0,index = query_idx)\n",
    "    act_data.reset_index(drop=True, inplace=True)\n",
    "    \n",
    "    accuracy_list.append(learner.score(X_pool, y_pool))\n",
    "    print('Accuracy after query no. %d: %f' % (idx+1, learner.score(X_pool, y_pool)))\n",
    "print(\"======================================\")\n",
    "print(\"By just labelling \",round(n_queries*100.0/len(X),2),\"% of total data accuracy of \", round(learner.score(X_pool, y_pool),3), \" % is achieved on the unseen data\"  )"
   ]
  },
  {
   "cell_type": "markdown",
   "metadata": {},
   "source": [
    "# Multinomial Naive Bayes "
   ]
  },
  {
   "cell_type": "code",
   "execution_count": 12,
   "metadata": {},
   "outputs": [
    {
     "name": "stdout",
     "output_type": "stream",
     "text": [
      "Accuracy after query no. 1: 0.355083\n",
      "Accuracy after query no. 2: 0.361702\n",
      "Accuracy after query no. 3: 0.374429\n",
      "Accuracy after query no. 4: 0.388720\n",
      "Accuracy after query no. 5: 0.383206\n",
      "Accuracy after query no. 6: 0.385321\n",
      "Accuracy after query no. 7: 0.382848\n",
      "Accuracy after query no. 8: 0.383436\n",
      "Accuracy after query no. 9: 0.380952\n",
      "Accuracy after query no. 10: 0.384615\n",
      "Accuracy after query no. 11: 0.386749\n",
      "Accuracy after query no. 12: 0.379630\n",
      "Accuracy after query no. 13: 0.395672\n",
      "Accuracy after query no. 14: 0.421053\n",
      "Accuracy after query no. 15: 0.480620\n",
      "Accuracy after query no. 16: 0.492236\n",
      "Accuracy after query no. 17: 0.531882\n",
      "Accuracy after query no. 18: 0.537383\n",
      "Accuracy after query no. 19: 0.535101\n",
      "Accuracy after query no. 20: 0.534375\n",
      "Accuracy after query no. 21: 0.544601\n",
      "Accuracy after query no. 22: 0.543887\n",
      "Accuracy after query no. 23: 0.497645\n",
      "Accuracy after query no. 24: 0.498428\n",
      "Accuracy after query no. 25: 0.379528\n",
      "Accuracy after query no. 26: 0.411672\n",
      "Accuracy after query no. 27: 0.420221\n",
      "Accuracy after query no. 28: 0.406646\n",
      "Accuracy after query no. 29: 0.337559\n",
      "Accuracy after query no. 30: 0.371429\n",
      "Accuracy after query no. 31: 0.379968\n",
      "Accuracy after query no. 32: 0.458599\n",
      "Accuracy after query no. 33: 0.460925\n",
      "Accuracy after query no. 34: 0.536741\n",
      "Accuracy after query no. 35: 0.537600\n",
      "Accuracy after query no. 36: 0.530449\n",
      "Accuracy after query no. 37: 0.531300\n",
      "Accuracy after query no. 38: 0.532154\n",
      "Accuracy after query no. 39: 0.531401\n",
      "Accuracy after query no. 40: 0.541935\n",
      "Accuracy after query no. 41: 0.562197\n",
      "Accuracy after query no. 42: 0.572816\n",
      "Accuracy after query no. 43: 0.573744\n",
      "Accuracy after query no. 44: 0.573052\n",
      "Accuracy after query no. 45: 0.572358\n",
      "Accuracy after query no. 46: 0.574919\n",
      "Accuracy after query no. 47: 0.575856\n",
      "Accuracy after query no. 48: 0.576797\n",
      "Accuracy after query no. 49: 0.576105\n",
      "Accuracy after query no. 50: 0.572131\n",
      "Accuracy after query no. 51: 0.576355\n",
      "Accuracy after query no. 52: 0.575658\n",
      "Accuracy after query no. 53: 0.576606\n",
      "Accuracy after query no. 54: 0.575908\n",
      "Accuracy after query no. 55: 0.576860\n",
      "Accuracy after query no. 56: 0.576159\n",
      "Accuracy after query no. 57: 0.580431\n",
      "Accuracy after query no. 58: 0.581395\n",
      "Accuracy after query no. 59: 0.587354\n",
      "Accuracy after query no. 60: 0.593333\n",
      "Accuracy after query no. 61: 0.609349\n",
      "Accuracy after query no. 62: 0.615385\n",
      "Accuracy after query no. 63: 0.619765\n",
      "Accuracy after query no. 64: 0.620805\n",
      "Accuracy after query no. 65: 0.623529\n",
      "Accuracy after query no. 66: 0.621212\n",
      "Accuracy after query no. 67: 0.620573\n",
      "Accuracy after query no. 68: 0.625000\n",
      "Accuracy after query no. 69: 0.626058\n",
      "Accuracy after query no. 70: 0.620339\n",
      "Accuracy after query no. 71: 0.621392\n",
      "Accuracy after query no. 72: 0.636054\n",
      "Accuracy after query no. 73: 0.630324\n",
      "Accuracy after query no. 74: 0.634812\n",
      "Accuracy after query no. 75: 0.639316\n",
      "Accuracy after query no. 76: 0.642123\n",
      "Accuracy after query no. 77: 0.636364\n",
      "Accuracy after query no. 78: 0.640893\n",
      "Accuracy after query no. 79: 0.645439\n",
      "Accuracy after query no. 80: 0.563793\n",
      "Accuracy after query no. 81: 0.561313\n",
      "Accuracy after query no. 82: 0.610727\n",
      "Accuracy after query no. 83: 0.601386\n",
      "Accuracy after query no. 84: 0.585069\n",
      "Accuracy after query no. 85: 0.584348\n",
      "Accuracy after query no. 86: 0.595819\n",
      "Accuracy after query no. 87: 0.603839\n",
      "Accuracy after query no. 88: 0.604895\n",
      "Accuracy after query no. 89: 0.598949\n",
      "Accuracy after query no. 90: 0.607018\n",
      "Accuracy after query no. 91: 0.609842\n",
      "Accuracy after query no. 92: 0.607394\n",
      "Accuracy after query no. 93: 0.604938\n",
      "Accuracy after query no. 94: 0.577739\n",
      "Accuracy after query no. 95: 0.584071\n",
      "Accuracy after query no. 96: 0.583333\n",
      "Accuracy after query no. 97: 0.586146\n",
      "Accuracy after query no. 98: 0.587189\n",
      "Accuracy after query no. 99: 0.586453\n",
      "Accuracy after query no. 100: 0.582143\n",
      "Accuracy after query no. 101: 0.586762\n",
      "Accuracy after query no. 102: 0.591398\n",
      "Accuracy after query no. 103: 0.597846\n",
      "Accuracy after query no. 104: 0.604317\n",
      "Accuracy after query no. 105: 0.605405\n",
      "Accuracy after query no. 106: 0.604693\n",
      "Accuracy after query no. 107: 0.611212\n",
      "Accuracy after query no. 108: 0.614130\n",
      "Accuracy after query no. 109: 0.613430\n",
      "Accuracy after query no. 110: 0.609091\n",
      "Accuracy after query no. 111: 0.606557\n",
      "Accuracy after query no. 112: 0.598540\n",
      "Accuracy after query no. 113: 0.597806\n",
      "Accuracy after query no. 114: 0.598901\n",
      "Accuracy after query no. 115: 0.607339\n",
      "Accuracy after query no. 116: 0.615809\n",
      "Accuracy after query no. 117: 0.602210\n",
      "Accuracy after query no. 118: 0.618081\n",
      "Accuracy after query no. 119: 0.611830\n",
      "Accuracy after query no. 120: 0.616667\n",
      "Accuracy after query no. 121: 0.619666\n",
      "Accuracy after query no. 122: 0.618959\n",
      "Accuracy after query no. 123: 0.627561\n",
      "Accuracy after query no. 124: 0.634328\n",
      "Accuracy after query no. 125: 0.639252\n",
      "Accuracy after query no. 126: 0.647940\n",
      "Accuracy after query no. 127: 0.645403\n",
      "Accuracy after query no. 128: 0.640977\n",
      "Accuracy after query no. 129: 0.638418\n",
      "Accuracy after query no. 130: 0.622642\n",
      "Accuracy after query no. 131: 0.631380\n",
      "Accuracy after query no. 132: 0.630682\n",
      "======================================\n",
      "By just labelling  19.91 % of total data accuracy of  0.631  % is achieved on the unseen data\n"
     ]
    }
   ],
   "source": [
    "act_data = short_df.copy()\n",
    "accuracy_list_nb = []\n",
    "\n",
    "# initialising\n",
    "train_idx = seed_index\n",
    "X_train = X[train_idx]\n",
    "y_train = Y[train_idx]\n",
    " \n",
    "# generating the pool\n",
    "X_pool = np.delete(X, train_idx, axis=0)\n",
    "y_pool = np.delete(Y, train_idx)\n",
    "\n",
    "act_data = act_data.drop(axis=0,index = train_idx)\n",
    "act_data.reset_index(drop = True,inplace=True)\n",
    "\n",
    "\n",
    "# initializing the active learner\n",
    "# lr = LogisticRegression()\n",
    "# nb = MultinomialNB()\n",
    "nb = SVC(kernel='linear' , probability=True)\n",
    "learner = ActiveLearner(\n",
    "#     estimator = lr,\n",
    "    estimator = nb,\n",
    "#     estimator = RandomForestClassifier(n_estimators=5),\n",
    "#     estimator=KNeighborsClassifier(n_neighbors=3),\n",
    "    X_training=X_train, y_training=y_train\n",
    ")\n",
    "\n",
    "# pool-based sampling\n",
    "n_queries = int(len(X)/5)\n",
    "for idx in range(n_queries):\n",
    "    query_idx, query_instance = learner.query(X_pool)\n",
    "#     print(\"\\nQ: \", act_data.loc[int(query_idx),'question'])\n",
    "#     print(\"A: \",act_data.loc[int(query_idx),'student_answer'])\n",
    "#     print(\"Actual grade: \",y_pool[query_idx].reshape(1, ))\n",
    "#     print (\"Class probabilities: \",learner.predict_proba(X_pool[query_idx].reshape(1, -1)))\n",
    "#     human_label = int(input(\"\\nGive me a grade 0 or 1:\"))\n",
    "    \n",
    "    learner.teach(\n",
    "        X=X_pool[query_idx].reshape(1, -1),\n",
    "        y=y_pool[query_idx].reshape(1, )\n",
    "    )\n",
    "    \n",
    "    # remove queried instance from pool\n",
    "    X_pool = np.delete(X_pool, query_idx, axis=0)\n",
    "    y_pool = np.delete(y_pool, query_idx)\n",
    "    \n",
    "    act_data = act_data.drop(axis=0,index = query_idx)\n",
    "    act_data.reset_index(drop=True, inplace=True)\n",
    "    \n",
    "    accuracy_list_nb.append(learner.score(X_pool, y_pool))\n",
    "    print('Accuracy after query no. %d: %f' % (idx+1, learner.score(X_pool, y_pool)))\n",
    "print(\"======================================\")\n",
    "print(\"By just labelling \",round(n_queries*100.0/len(X),2),\"% of total data accuracy of \", round(learner.score(X_pool, y_pool),3), \" % is achieved on the unseen data\"  )"
   ]
  },
  {
   "cell_type": "markdown",
   "metadata": {},
   "source": [
    "## Regular supervised task"
   ]
  },
  {
   "cell_type": "code",
   "execution_count": 9,
   "metadata": {},
   "outputs": [],
   "source": [
    "from sklearn.model_selection import train_test_split"
   ]
  },
  {
   "cell_type": "code",
   "execution_count": 10,
   "metadata": {},
   "outputs": [
    {
     "data": {
      "text/plain": [
       "0.6616541353383458"
      ]
     },
     "execution_count": 10,
     "metadata": {},
     "output_type": "execute_result"
    }
   ],
   "source": [
    "check_X = np.copy(X)\n",
    "check_Y = np.copy(Y)\n",
    "\n",
    "X_train,X_test,Y_train,Y_test = train_test_split(check_X,check_Y,test_size = 0.2)\n",
    "lr = LogisticRegression()\n",
    "lr.fit(X_train, Y_train)\n",
    "score_lr = lr.score(X_test, Y_test)\n",
    "score_lr"
   ]
  },
  {
   "cell_type": "code",
   "execution_count": 11,
   "metadata": {},
   "outputs": [
    {
     "data": {
      "text/plain": [
       "0.6090225563909775"
      ]
     },
     "execution_count": 11,
     "metadata": {},
     "output_type": "execute_result"
    }
   ],
   "source": [
    "check_X = np.copy(X)\n",
    "check_Y = np.copy(Y)\n",
    "\n",
    "X_train,X_test,Y_train,Y_test = train_test_split(check_X,check_Y,test_size = 0.2)\n",
    "nb = MultinomialNB()\n",
    "nb.fit(X_train, Y_train)\n",
    "score_nb = nb.score(X_test, Y_test)\n",
    "score_nb"
   ]
  },
  {
   "cell_type": "code",
   "execution_count": 12,
   "metadata": {},
   "outputs": [
    {
     "data": {
      "image/png": "[encoded data removed]",
      "text/plain": [
       "<Figure size 432x288 with 1 Axes>"
      ]
     },
     "metadata": {},
     "output_type": "display_data"
    }
   ],
   "source": [
    "supervised_accuracy_lr = [score_lr for x in range(0,n_queries)]\n",
    "supervised_accuracy_nb = [score_nb for x in range(0,n_queries)]\n",
    "\n",
    "\n",
    "plt.figure()\n",
    "plt.plot(np.linspace(0,n_queries-1,n_queries),supervised_accuracy_lr)\n",
    "plt.plot(np.linspace(0,n_queries-1,n_queries),supervised_accuracy_nb)\n",
    "plt.plot(accuracy_list)\n",
    "plt.plot(accuracy_list_nb)\n",
    "plt.title(\"Accuracy after every query\")\n",
    "plt.xlabel(\"Query number\")\n",
    "plt.ylabel(\"Accuracy\")\n",
    "plt.legend([\"Supervised-LR\", \"Supervised-NB\",\"Active Learning-lr\",\"Active Learning-nb\"], loc=\"lower right\")\n",
    "plt.show()"
   ]
  },
  {
   "cell_type": "code",
   "execution_count": 13,
   "metadata": {},
   "outputs": [
    {
     "data": {
      "text/plain": [
       "0.5158371040723982"
      ]
     },
     "execution_count": 13,
     "metadata": {},
     "output_type": "execute_result"
    }
   ],
   "source": [
    "#checking the baseline\n",
    "len(df[df['grade'] == 2]) / len(df)\n"
   ]
  },
  {
   "cell_type": "code",
   "execution_count": null,
   "metadata": {},
   "outputs": [],
   "source": []
  }
 ],
 "metadata": {
  "kernelspec": {
   "display_name": "nlgeval",
   "language": "python",
   "name": "maluuba"
  },
  "language_info": {
   "codemirror_mode": {
    "name": "ipython",
    "version": 3
   },
   "file_extension": ".py",
   "mimetype": "text/x-python",
   "name": "python",
   "nbconvert_exporter": "python",
   "pygments_lexer": "ipython3",
   "version": "3.6.6"
  }
 },
 "nbformat": 4,
 "nbformat_minor": 2
}
