{
 "cells": [
  {
   "cell_type": "markdown",
   "metadata": {},
   "source": [
    "# Multiclass classification - Neural Network dataset(tfidf)"
   ]
  },
  {
   "cell_type": "markdown",
   "metadata": {},
   "source": [
    "# Importing and Preprocessing"
   ]
  },
  {
   "cell_type": "markdown",
   "metadata": {},
   "source": [
    "## Importing libraries"
   ]
  },
  {
   "cell_type": "code",
   "execution_count": 1,
   "metadata": {},
   "outputs": [],
   "source": [
    "#### import numpy as np\n",
    "import pandas as pd\n",
    "import matplotlib.pyplot as plt\n",
    "import numpy as np\n",
    "\n",
    "from nltk.corpus import stopwords\n",
    "from nltk.stem import PorterStemmer\n",
    "from nltk.tokenize import word_tokenize\n",
    "from textblob import Word\n",
    "from textblob import TextBlob\n",
    "\n",
    "from collections import Counter\n",
    "from sklearn.model_selection import train_test_split\n",
    "from sklearn.feature_extraction.text import CountVectorizer\n",
    "from sklearn.feature_extraction.text import TfidfVectorizer\n",
    "from sklearn.linear_model import LogisticRegression\n",
    "\n",
    "from sklearn.decomposition import PCA\n",
    "from sklearn.datasets import load_iris\n",
    "from sklearn.neighbors import KNeighborsClassifier\n",
    "from sklearn.ensemble import RandomForestClassifier\n",
    "from sklearn.naive_bayes import MultinomialNB\n",
    "\n",
    "from modAL.models import ActiveLearner\n",
    "from modAL.models import ActiveLearner\n",
    "\n",
    "import en_core_web_sm\n",
    "nlp = en_core_web_sm.load()\n",
    "\n",
    "%matplotlib inline"
   ]
  },
  {
   "cell_type": "markdown",
   "metadata": {},
   "source": [
    "## Importing files"
   ]
  },
  {
   "cell_type": "code",
   "execution_count": 2,
   "metadata": {},
   "outputs": [],
   "source": [
    "original_data = pd.read_pickle(\"../dataset/nn_cleaned.pkl\")"
   ]
  },
  {
   "cell_type": "markdown",
   "metadata": {},
   "source": [
    "## Preprocessing"
   ]
  },
  {
   "cell_type": "code",
   "execution_count": 3,
   "metadata": {},
   "outputs": [],
   "source": [
    "df = original_data.copy()\n",
    "\n",
    "#converting to lower case\n",
    "# df['ref_modified'] = df['ref_answer'].apply(lambda x: \" \".join(x.lower() for x in x.split()))\n",
    "df['student_modified'] = df['student_answer'].apply(lambda x: \" \".join(x.lower() for x in x.split()))\n",
    "\n",
    "#punctuation removal\n",
    "# df['ref_modified'] = df['ref_modified'].str.replace('[^\\w\\s]','')\n",
    "df['student_modified'] = df['student_modified'].str.replace('[^\\w\\s]','')\n",
    "\n",
    "#stop word removal\n",
    "stop = stopwords.words('english')\n",
    "# df['ref_modified'] = df['ref_modified'].apply(lambda x: \" \".join(x for x in x.split() if x not in stop))\n",
    "df['student_modified'] = df['student_modified'].apply(lambda x: \" \".join(x for x in x.split() if x not in stop))\n",
    "\n",
    "\n",
    "#lemmatisation\n",
    "# df['ref_modified'] = df['ref_modified'].apply(lambda x: \" \".join([Word(word).lemmatize() for word in word_tokenize(x)]))\n",
    "df['student_modified'] = df['student_modified'].apply(lambda x: \" \".join([Word(word).lemmatize() for word in word_tokenize(x)]))"
   ]
  },
  {
   "cell_type": "markdown",
   "metadata": {},
   "source": [
    "# Gathering required features"
   ]
  },
  {
   "cell_type": "code",
   "execution_count": 4,
   "metadata": {},
   "outputs": [],
   "source": [
    "short_df = df[['question','student_answer','student_modified','grade']]\n",
    "# short_df['grades_round']= short_df['grade'].apply(lambda x: round(x))"
   ]
  },
  {
   "cell_type": "markdown",
   "metadata": {},
   "source": [
    "# TFIDF"
   ]
  },
  {
   "cell_type": "code",
   "execution_count": 5,
   "metadata": {},
   "outputs": [],
   "source": [
    "# Tf-idf creation\n",
    "Tf = TfidfVectorizer()\n",
    "tfidf_vector = Tf.fit_transform(df['student_modified'])\n",
    "tfidf_vector = tfidf_vector.toarray()\n",
    "\n",
    "X = tfidf_vector\n",
    "Y = short_df['grade'].values"
   ]
  },
  {
   "cell_type": "markdown",
   "metadata": {},
   "source": [
    "# Seeding"
   ]
  },
  {
   "cell_type": "code",
   "execution_count": 6,
   "metadata": {},
   "outputs": [
    {
     "data": {
      "text/plain": [
       "[0, 2, 88]"
      ]
     },
     "execution_count": 6,
     "metadata": {},
     "output_type": "execute_result"
    }
   ],
   "source": [
    "#getting the seed index\n",
    "classes = short_df['grade'].unique()\n",
    "seed_index = []\n",
    "for i in classes:\n",
    "    seed_index.append(short_df['grade'][short_df['grade']==i].index[0])\n",
    "seed_index"
   ]
  },
  {
   "cell_type": "markdown",
   "metadata": {},
   "source": [
    "# Logistic Regression"
   ]
  },
  {
   "cell_type": "code",
   "execution_count": 7,
   "metadata": {},
   "outputs": [
    {
     "name": "stdout",
     "output_type": "stream",
     "text": [
      "Accuracy after query no. 1: 0.515933\n",
      "Accuracy after query no. 2: 0.515198\n",
      "Accuracy after query no. 3: 0.514460\n",
      "Accuracy after query no. 4: 0.515244\n",
      "Accuracy after query no. 5: 0.516031\n",
      "Accuracy after query no. 6: 0.498471\n",
      "Accuracy after query no. 7: 0.499234\n",
      "Accuracy after query no. 8: 0.516871\n",
      "Accuracy after query no. 9: 0.516129\n",
      "Accuracy after query no. 10: 0.515385\n",
      "Accuracy after query no. 11: 0.516179\n",
      "Accuracy after query no. 12: 0.515432\n",
      "Accuracy after query no. 13: 0.516229\n",
      "Accuracy after query no. 14: 0.515480\n",
      "Accuracy after query no. 15: 0.516279\n",
      "Accuracy after query no. 16: 0.515528\n",
      "Accuracy after query no. 17: 0.516330\n",
      "Accuracy after query no. 18: 0.515576\n",
      "Accuracy after query no. 19: 0.516381\n",
      "Accuracy after query no. 20: 0.518750\n",
      "Accuracy after query no. 21: 0.541471\n",
      "Accuracy after query no. 22: 0.521944\n",
      "Accuracy after query no. 23: 0.547881\n",
      "Accuracy after query no. 24: 0.559748\n",
      "Accuracy after query no. 25: 0.548031\n",
      "Accuracy after query no. 26: 0.548896\n",
      "Accuracy after query no. 27: 0.559242\n",
      "Accuracy after query no. 28: 0.553797\n",
      "Accuracy after query no. 29: 0.561014\n",
      "Accuracy after query no. 30: 0.561905\n",
      "Accuracy after query no. 31: 0.546900\n",
      "Accuracy after query no. 32: 0.496815\n",
      "Accuracy after query no. 33: 0.417863\n",
      "Accuracy after query no. 34: 0.507987\n",
      "Accuracy after query no. 35: 0.411200\n",
      "Accuracy after query no. 36: 0.387821\n",
      "Accuracy after query no. 37: 0.361156\n",
      "Accuracy after query no. 38: 0.331190\n",
      "Accuracy after query no. 39: 0.325282\n",
      "Accuracy after query no. 40: 0.335484\n",
      "Accuracy after query no. 41: 0.324717\n",
      "Accuracy after query no. 42: 0.343042\n",
      "Accuracy after query no. 43: 0.358185\n",
      "Accuracy after query no. 44: 0.383117\n",
      "Accuracy after query no. 45: 0.391870\n",
      "Accuracy after query no. 46: 0.442997\n",
      "Accuracy after query no. 47: 0.378467\n",
      "Accuracy after query no. 48: 0.406863\n",
      "Accuracy after query no. 49: 0.360065\n",
      "Accuracy after query no. 50: 0.331148\n",
      "Accuracy after query no. 51: 0.330049\n",
      "Accuracy after query no. 52: 0.325658\n",
      "Accuracy after query no. 53: 0.322900\n",
      "Accuracy after query no. 54: 0.321782\n",
      "Accuracy after query no. 55: 0.317355\n",
      "Accuracy after query no. 56: 0.322848\n",
      "Accuracy after query no. 57: 0.323383\n",
      "Accuracy after query no. 58: 0.323920\n",
      "Accuracy after query no. 59: 0.324459\n",
      "Accuracy after query no. 60: 0.323333\n",
      "Accuracy after query no. 61: 0.323873\n",
      "Accuracy after query no. 62: 0.326087\n",
      "Accuracy after query no. 63: 0.326633\n",
      "Accuracy after query no. 64: 0.330537\n",
      "Accuracy after query no. 65: 0.342857\n",
      "Accuracy after query no. 66: 0.341751\n",
      "Accuracy after query no. 67: 0.340641\n",
      "Accuracy after query no. 68: 0.364865\n",
      "Accuracy after query no. 69: 0.377327\n",
      "Accuracy after query no. 70: 0.364407\n",
      "Accuracy after query no. 71: 0.363328\n",
      "Accuracy after query no. 72: 0.358844\n",
      "Accuracy after query no. 73: 0.361158\n",
      "Accuracy after query no. 74: 0.370307\n",
      "Accuracy after query no. 75: 0.398291\n",
      "Accuracy after query no. 76: 0.440068\n",
      "Accuracy after query no. 77: 0.403087\n",
      "Accuracy after query no. 78: 0.383162\n",
      "Accuracy after query no. 79: 0.414802\n",
      "Accuracy after query no. 80: 0.455172\n",
      "Accuracy after query no. 81: 0.483592\n",
      "Accuracy after query no. 82: 0.446367\n",
      "Accuracy after query no. 83: 0.481802\n",
      "Accuracy after query no. 84: 0.489583\n",
      "Accuracy after query no. 85: 0.490435\n",
      "Accuracy after query no. 86: 0.538328\n",
      "Accuracy after query no. 87: 0.504363\n",
      "Accuracy after query no. 88: 0.538462\n",
      "Accuracy after query no. 89: 0.539405\n",
      "Accuracy after query no. 90: 0.542105\n",
      "Accuracy after query no. 91: 0.553603\n",
      "Accuracy after query no. 92: 0.561620\n",
      "Accuracy after query no. 93: 0.544974\n",
      "Accuracy after query no. 94: 0.561837\n",
      "Accuracy after query no. 95: 0.569912\n",
      "Accuracy after query no. 96: 0.558511\n",
      "Accuracy after query no. 97: 0.570160\n",
      "Accuracy after query no. 98: 0.580071\n",
      "Accuracy after query no. 99: 0.572193\n",
      "Accuracy after query no. 100: 0.571429\n",
      "Accuracy after query no. 101: 0.574240\n",
      "Accuracy after query no. 102: 0.571685\n",
      "Accuracy after query no. 103: 0.578097\n",
      "Accuracy after query no. 104: 0.580935\n",
      "Accuracy after query no. 105: 0.581982\n",
      "Accuracy after query no. 106: 0.584838\n",
      "Accuracy after query no. 107: 0.578662\n",
      "Accuracy after query no. 108: 0.590580\n",
      "Accuracy after query no. 109: 0.586207\n",
      "Accuracy after query no. 110: 0.587273\n",
      "Accuracy after query no. 111: 0.588342\n",
      "Accuracy after query no. 112: 0.583942\n",
      "Accuracy after query no. 113: 0.581353\n",
      "Accuracy after query no. 114: 0.582418\n",
      "Accuracy after query no. 115: 0.583486\n",
      "Accuracy after query no. 116: 0.582721\n",
      "Accuracy after query no. 117: 0.583794\n",
      "Accuracy after query no. 118: 0.584871\n",
      "Accuracy after query no. 119: 0.585952\n",
      "Accuracy after query no. 120: 0.587037\n",
      "Accuracy after query no. 121: 0.588126\n",
      "Accuracy after query no. 122: 0.589219\n",
      "Accuracy after query no. 123: 0.590317\n",
      "Accuracy after query no. 124: 0.591418\n",
      "Accuracy after query no. 125: 0.646729\n",
      "Accuracy after query no. 126: 0.649813\n",
      "Accuracy after query no. 127: 0.649156\n",
      "Accuracy after query no. 128: 0.650376\n",
      "Accuracy after query no. 129: 0.657250\n",
      "Accuracy after query no. 130: 0.658491\n",
      "Accuracy after query no. 131: 0.657845\n",
      "Accuracy after query no. 132: 0.659091\n",
      "======================================\n",
      "By just labelling  19.91 % of total data accuracy of  0.659  % is achieved on the unseen data\n"
     ]
    }
   ],
   "source": [
    "act_data = short_df.copy()\n",
    "accuracy_list = []\n",
    "\n",
    "# initialising\n",
    "train_idx = seed_index\n",
    "X_train = X[train_idx]\n",
    "y_train = Y[train_idx]\n",
    " \n",
    "# generating the pool\n",
    "X_pool = np.delete(X, train_idx, axis=0)\n",
    "y_pool = np.delete(Y, train_idx)\n",
    "\n",
    "act_data = act_data.drop(axis=0,index = train_idx)\n",
    "act_data.reset_index(drop = True,inplace=True)\n",
    "\n",
    "\n",
    "# initializing the active learner\n",
    "lr = LogisticRegression()\n",
    "# nb = MultinomialNB()\n",
    "learner = ActiveLearner(\n",
    "    estimator = lr,\n",
    "#     estimator = nb,\n",
    "#     estimator = RandomForestClassifier(n_estimators=5),\n",
    "#     estimator=KNeighborsClassifier(n_neighbors=3),\n",
    "    X_training=X_train, y_training=y_train\n",
    ")\n",
    "\n",
    "# pool-based sampling\n",
    "n_queries = int(len(X)/5)\n",
    "for idx in range(n_queries):\n",
    "    query_idx, query_instance = learner.query(X_pool)\n",
    "#     print(\"\\nQ: \", act_data.loc[int(query_idx),'question'])\n",
    "#     print(\"A: \",act_data.loc[int(query_idx),'student_answer'])\n",
    "#     print(\"Actual grade: \",y_pool[query_idx].reshape(1, ))\n",
    "#     print (\"Class probabilities: \",learner.predict_proba(X_pool[query_idx].reshape(1, -1)))\n",
    "#     human_label = int(input(\"\\nGive me a grade 0 or 1:\"))\n",
    "    \n",
    "    learner.teach(\n",
    "        X=X_pool[query_idx].reshape(1, -1),\n",
    "        y=y_pool[query_idx].reshape(1, )\n",
    "    )\n",
    "    \n",
    "    # remove queried instance from pool\n",
    "    X_pool = np.delete(X_pool, query_idx, axis=0)\n",
    "    y_pool = np.delete(y_pool, query_idx)\n",
    "    \n",
    "    act_data = act_data.drop(axis=0,index = query_idx)\n",
    "    act_data.reset_index(drop=True, inplace=True)\n",
    "    \n",
    "    accuracy_list.append(learner.score(X_pool, y_pool))\n",
    "    print('Accuracy after query no. %d: %f' % (idx+1, learner.score(X_pool, y_pool)))\n",
    "print(\"======================================\")\n",
    "print(\"By just labelling \",round(n_queries*100.0/len(X),2),\"% of total data accuracy of \", round(learner.score(X_pool, y_pool),3), \" % is achieved on the unseen data\"  )"
   ]
  },
  {
   "cell_type": "markdown",
   "metadata": {},
   "source": [
    "# Multinomial Naive Bayes "
   ]
  },
  {
   "cell_type": "code",
   "execution_count": 8,
   "metadata": {},
   "outputs": [
    {
     "name": "stdout",
     "output_type": "stream",
     "text": [
      "Accuracy after query no. 1: 0.142640\n",
      "Accuracy after query no. 2: 0.363222\n",
      "Accuracy after query no. 3: 0.458143\n",
      "Accuracy after query no. 4: 0.173780\n",
      "Accuracy after query no. 5: 0.377099\n",
      "Accuracy after query no. 6: 0.501529\n",
      "Accuracy after query no. 7: 0.192956\n",
      "Accuracy after query no. 8: 0.404908\n",
      "Accuracy after query no. 9: 0.485407\n",
      "Accuracy after query no. 10: 0.235385\n",
      "Accuracy after query no. 11: 0.479199\n",
      "Accuracy after query no. 12: 0.498457\n",
      "Accuracy after query no. 13: 0.321484\n",
      "Accuracy after query no. 14: 0.422601\n",
      "Accuracy after query no. 15: 0.365891\n",
      "Accuracy after query no. 16: 0.360248\n",
      "Accuracy after query no. 17: 0.360809\n",
      "Accuracy after query no. 18: 0.362928\n",
      "Accuracy after query no. 19: 0.400936\n",
      "Accuracy after query no. 20: 0.492188\n",
      "Accuracy after query no. 21: 0.560250\n",
      "Accuracy after query no. 22: 0.548589\n",
      "Accuracy after query no. 23: 0.532182\n",
      "Accuracy after query no. 24: 0.529874\n",
      "Accuracy after query no. 25: 0.552756\n",
      "Accuracy after query no. 26: 0.570978\n",
      "Accuracy after query no. 27: 0.575039\n",
      "Accuracy after query no. 28: 0.579114\n",
      "Accuracy after query no. 29: 0.573693\n",
      "Accuracy after query no. 30: 0.574603\n",
      "Accuracy after query no. 31: 0.573927\n",
      "Accuracy after query no. 32: 0.579618\n",
      "Accuracy after query no. 33: 0.566188\n",
      "Accuracy after query no. 34: 0.562300\n",
      "Accuracy after query no. 35: 0.577600\n",
      "Accuracy after query no. 36: 0.578526\n",
      "Accuracy after query no. 37: 0.584270\n",
      "Accuracy after query no. 38: 0.548232\n",
      "Accuracy after query no. 39: 0.549114\n",
      "Accuracy after query no. 40: 0.558065\n",
      "Accuracy after query no. 41: 0.586430\n",
      "Accuracy after query no. 42: 0.592233\n",
      "Accuracy after query no. 43: 0.588331\n",
      "Accuracy after query no. 44: 0.597403\n",
      "Accuracy after query no. 45: 0.583740\n",
      "Accuracy after query no. 46: 0.589577\n",
      "Accuracy after query no. 47: 0.588907\n",
      "Accuracy after query no. 48: 0.594771\n",
      "Accuracy after query no. 49: 0.600655\n",
      "Accuracy after query no. 50: 0.581967\n",
      "Accuracy after query no. 51: 0.577997\n",
      "Accuracy after query no. 52: 0.588816\n",
      "Accuracy after query no. 53: 0.588138\n",
      "Accuracy after query no. 54: 0.569307\n",
      "Accuracy after query no. 55: 0.583471\n",
      "Accuracy after query no. 56: 0.576159\n",
      "Accuracy after query no. 57: 0.578773\n",
      "Accuracy after query no. 58: 0.579734\n",
      "Accuracy after query no. 59: 0.580699\n",
      "Accuracy after query no. 60: 0.563333\n",
      "Accuracy after query no. 61: 0.580968\n",
      "Accuracy after query no. 62: 0.581940\n",
      "Accuracy after query no. 63: 0.581240\n",
      "Accuracy after query no. 64: 0.588926\n",
      "Accuracy after query no. 65: 0.589916\n",
      "Accuracy after query no. 66: 0.577441\n",
      "Accuracy after query no. 67: 0.576728\n",
      "Accuracy after query no. 68: 0.577703\n",
      "Accuracy after query no. 69: 0.576988\n",
      "Accuracy after query no. 70: 0.577966\n",
      "Accuracy after query no. 71: 0.575552\n",
      "Accuracy after query no. 72: 0.578231\n",
      "Accuracy after query no. 73: 0.572402\n",
      "Accuracy after query no. 74: 0.569966\n",
      "Accuracy after query no. 75: 0.570940\n",
      "Accuracy after query no. 76: 0.571918\n",
      "Accuracy after query no. 77: 0.572899\n",
      "Accuracy after query no. 78: 0.573883\n",
      "Accuracy after query no. 79: 0.576592\n",
      "Accuracy after query no. 80: 0.577586\n",
      "Accuracy after query no. 81: 0.580311\n",
      "Accuracy after query no. 82: 0.584775\n",
      "Accuracy after query no. 83: 0.585789\n",
      "Accuracy after query no. 84: 0.631944\n",
      "Accuracy after query no. 85: 0.636522\n",
      "Accuracy after query no. 86: 0.632404\n",
      "Accuracy after query no. 87: 0.642234\n",
      "Accuracy after query no. 88: 0.636364\n",
      "Accuracy after query no. 89: 0.639229\n",
      "Accuracy after query no. 90: 0.626316\n",
      "Accuracy after query no. 91: 0.630931\n",
      "Accuracy after query no. 92: 0.632042\n",
      "Accuracy after query no. 93: 0.638448\n",
      "Accuracy after query no. 94: 0.639576\n",
      "Accuracy after query no. 95: 0.638938\n",
      "Accuracy after query no. 96: 0.631206\n",
      "Accuracy after query no. 97: 0.639432\n",
      "Accuracy after query no. 98: 0.635231\n",
      "Accuracy after query no. 99: 0.641711\n",
      "Accuracy after query no. 100: 0.639286\n",
      "Accuracy after query no. 101: 0.645796\n",
      "Accuracy after query no. 102: 0.645161\n",
      "Accuracy after query no. 103: 0.648115\n",
      "Accuracy after query no. 104: 0.638489\n",
      "Accuracy after query no. 105: 0.637838\n",
      "Accuracy after query no. 106: 0.629964\n",
      "Accuracy after query no. 107: 0.638336\n",
      "Accuracy after query no. 108: 0.639493\n",
      "Accuracy after query no. 109: 0.640653\n",
      "Accuracy after query no. 110: 0.641818\n",
      "Accuracy after query no. 111: 0.653916\n",
      "Accuracy after query no. 112: 0.655109\n",
      "Accuracy after query no. 113: 0.647166\n",
      "Accuracy after query no. 114: 0.648352\n",
      "Accuracy after query no. 115: 0.649541\n",
      "Accuracy after query no. 116: 0.652574\n",
      "Accuracy after query no. 117: 0.651934\n",
      "Accuracy after query no. 118: 0.653137\n",
      "Accuracy after query no. 119: 0.654344\n",
      "Accuracy after query no. 120: 0.653704\n",
      "Accuracy after query no. 121: 0.658627\n",
      "Accuracy after query no. 122: 0.646840\n",
      "Accuracy after query no. 123: 0.653631\n",
      "Accuracy after query no. 124: 0.654851\n",
      "Accuracy after query no. 125: 0.652336\n",
      "Accuracy after query no. 126: 0.647940\n",
      "Accuracy after query no. 127: 0.649156\n",
      "Accuracy after query no. 128: 0.650376\n",
      "Accuracy after query no. 129: 0.651601\n",
      "Accuracy after query no. 130: 0.650943\n",
      "Accuracy after query no. 131: 0.652174\n",
      "Accuracy after query no. 132: 0.645833\n",
      "======================================\n",
      "By just labelling  19.91 % of total data accuracy of  0.646  % is achieved on the unseen data\n"
     ]
    }
   ],
   "source": [
    "act_data = short_df.copy()\n",
    "accuracy_list_nb = []\n",
    "\n",
    "# initialising\n",
    "train_idx = seed_index\n",
    "X_train = X[train_idx]\n",
    "y_train = Y[train_idx]\n",
    " \n",
    "# generating the pool\n",
    "X_pool = np.delete(X, train_idx, axis=0)\n",
    "y_pool = np.delete(Y, train_idx)\n",
    "\n",
    "act_data = act_data.drop(axis=0,index = train_idx)\n",
    "act_data.reset_index(drop = True,inplace=True)\n",
    "\n",
    "\n",
    "# initializing the active learner\n",
    "# lr = LogisticRegression()\n",
    "nb = MultinomialNB()\n",
    "learner = ActiveLearner(\n",
    "#     estimator = lr,\n",
    "    estimator = nb,\n",
    "#     estimator = RandomForestClassifier(n_estimators=5),\n",
    "#     estimator=KNeighborsClassifier(n_neighbors=3),\n",
    "    X_training=X_train, y_training=y_train\n",
    ")\n",
    "\n",
    "# pool-based sampling\n",
    "n_queries = int(len(X)/5)\n",
    "for idx in range(n_queries):\n",
    "    query_idx, query_instance = learner.query(X_pool)\n",
    "#     print(\"\\nQ: \", act_data.loc[int(query_idx),'question'])\n",
    "#     print(\"A: \",act_data.loc[int(query_idx),'student_answer'])\n",
    "#     print(\"Actual grade: \",y_pool[query_idx].reshape(1, ))\n",
    "#     print (\"Class probabilities: \",learner.predict_proba(X_pool[query_idx].reshape(1, -1)))\n",
    "#     human_label = int(input(\"\\nGive me a grade 0 or 1:\"))\n",
    "    \n",
    "    learner.teach(\n",
    "        X=X_pool[query_idx].reshape(1, -1),\n",
    "        y=y_pool[query_idx].reshape(1, )\n",
    "    )\n",
    "    \n",
    "    # remove queried instance from pool\n",
    "    X_pool = np.delete(X_pool, query_idx, axis=0)\n",
    "    y_pool = np.delete(y_pool, query_idx)\n",
    "    \n",
    "    act_data = act_data.drop(axis=0,index = query_idx)\n",
    "    act_data.reset_index(drop=True, inplace=True)\n",
    "    \n",
    "    accuracy_list_nb.append(learner.score(X_pool, y_pool))\n",
    "    print('Accuracy after query no. %d: %f' % (idx+1, learner.score(X_pool, y_pool)))\n",
    "print(\"======================================\")\n",
    "print(\"By just labelling \",round(n_queries*100.0/len(X),2),\"% of total data accuracy of \", round(learner.score(X_pool, y_pool),3), \" % is achieved on the unseen data\"  )"
   ]
  },
  {
   "cell_type": "markdown",
   "metadata": {},
   "source": [
    "## Regular supervised task"
   ]
  },
  {
   "cell_type": "code",
   "execution_count": 9,
   "metadata": {},
   "outputs": [],
   "source": [
    "from sklearn.model_selection import train_test_split"
   ]
  },
  {
   "cell_type": "code",
   "execution_count": 10,
   "metadata": {},
   "outputs": [],
   "source": [
    "check_X = np.copy(X)\n",
    "check_Y = np.copy(Y)\n",
    "\n",
    "X_train,X_test,Y_train,Y_test = train_test_split(check_X,check_Y,test_size = 0.2)\n",
    "lr = LogisticRegression()\n",
    "lr.fit(X_train, Y_train)\n",
    "score_lr = lr.score(X_test, Y_test)\n",
    "score_lr"
   ]
  },
  {
   "cell_type": "code",
   "execution_count": 11,
   "metadata": {},
   "outputs": [
    {
     "data": {
      "text/plain": [
       "0.5864661654135338"
      ]
     },
     "execution_count": 11,
     "metadata": {},
     "output_type": "execute_result"
    }
   ],
   "source": [
    "check_X = np.copy(X)\n",
    "check_Y = np.copy(Y)\n",
    "\n",
    "X_train,X_test,Y_train,Y_test = train_test_split(check_X,check_Y,test_size = 0.2)\n",
    "nb = MultinomialNB()\n",
    "nb.fit(X_train, Y_train)\n",
    "score_nb = nb.score(X_test, Y_test)\n",
    "score_nb"
   ]
  },
  {
   "cell_type": "code",
   "execution_count": 12,
   "metadata": {},
   "outputs": [
    {
     "data": {
      "image/png": "[encoded data removed]",
      "text/plain": [
       "<Figure size 432x288 with 1 Axes>"
      ]
     },
     "metadata": {},
     "output_type": "display_data"
    }
   ],
   "source": [
    "supervised_accuracy_lr = [score_lr for x in range(0,n_queries)]\n",
    "supervised_accuracy_nb = [score_nb for x in range(0,n_queries)]\n",
    "\n",
    "\n",
    "plt.figure()\n",
    "plt.plot(np.linspace(0,n_queries-1,n_queries),supervised_accuracy_lr)\n",
    "plt.plot(np.linspace(0,n_queries-1,n_queries),supervised_accuracy_nb)\n",
    "plt.plot(accuracy_list)\n",
    "plt.plot(accuracy_list_nb)\n",
    "plt.title(\"Accuracy after every query\")\n",
    "plt.xlabel(\"Query number\")\n",
    "plt.ylabel(\"Accuracy\")\n",
    "plt.legend([\"Supervised-LR\", \"Supervised-NB\",\"Active Learning-lr\",\"Active Learning-nb\"], loc=\"lower right\")\n",
    "plt.show()"
   ]
  },
  {
   "cell_type": "code",
   "execution_count": 13,
   "metadata": {},
   "outputs": [
    {
     "data": {
      "text/plain": [
       "0.5158371040723982"
      ]
     },
     "execution_count": 13,
     "metadata": {},
     "output_type": "execute_result"
    }
   ],
   "source": [
    "#checking the baseline\n",
    "len(df[df['grade'] == 2]) / len(df)\n"
   ]
  },
  {
   "cell_type": "code",
   "execution_count": null,
   "metadata": {},
   "outputs": [],
   "source": []
  }
 ],
 "metadata": {
  "kernelspec": {
   "display_name": "nlgeval",
   "language": "python",
   "name": "maluuba"
  },
  "language_info": {
   "codemirror_mode": {
    "name": "ipython",
    "version": 3
   },
   "file_extension": ".py",
   "mimetype": "text/x-python",
   "name": "python",
   "nbconvert_exporter": "python",
   "pygments_lexer": "ipython3",
   "version": "3.6.6"
  }
 },
 "nbformat": 4,
 "nbformat_minor": 2
}
