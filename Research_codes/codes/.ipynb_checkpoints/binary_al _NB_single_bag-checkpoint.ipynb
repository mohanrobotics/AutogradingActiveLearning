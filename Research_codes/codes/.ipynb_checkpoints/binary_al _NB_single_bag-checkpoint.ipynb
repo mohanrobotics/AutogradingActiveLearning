{
 "cells": [
  {
   "cell_type": "markdown",
   "metadata": {},
   "source": [
    "# Binary classification - single_model using Naive Bayes"
   ]
  },
  {
   "cell_type": "markdown",
   "metadata": {},
   "source": [
    "# Importing and Preprocessing"
   ]
  },
  {
   "cell_type": "markdown",
   "metadata": {},
   "source": [
    "## Importing libraries"
   ]
  },
  {
   "cell_type": "code",
   "execution_count": 14,
   "metadata": {},
   "outputs": [],
   "source": [
    "#### import numpy as np\n",
    "import pandas as pd\n",
    "import matplotlib.pyplot as plt\n",
    "import numpy as np\n",
    "\n",
    "from nltk.corpus import stopwords\n",
    "from nltk.stem import PorterStemmer\n",
    "from nltk.tokenize import word_tokenize\n",
    "from textblob import Word\n",
    "from sklearn.svm import SVC\n",
    "from textblob import TextBlob\n",
    "\n",
    "from collections import Counter\n",
    "from sklearn.model_selection import train_test_split\n",
    "from sklearn.feature_extraction.text import CountVectorizer\n",
    "from sklearn.linear_model import LogisticRegression\n",
    "\n",
    "from sklearn.decomposition import PCA\n",
    "from sklearn.datasets import load_iris\n",
    "from sklearn.neighbors import KNeighborsClassifier\n",
    "from sklearn.ensemble import RandomForestClassifier\n",
    "from sklearn.naive_bayes import MultinomialNB\n",
    "\n",
    "from modAL.models import ActiveLearner\n",
    "from modAL.models import ActiveLearner\n",
    "\n",
    "import en_core_web_sm\n",
    "nlp = en_core_web_sm.load()\n",
    "\n",
    "%matplotlib inline"
   ]
  },
  {
   "cell_type": "markdown",
   "metadata": {},
   "source": [
    "## Importing files"
   ]
  },
  {
   "cell_type": "code",
   "execution_count": 3,
   "metadata": {},
   "outputs": [],
   "source": [
    "original_data = pd.read_csv('../dataset/mohler2_cleaned.csv' ,dtype = {'question_number':str})\n",
    "original_data = original_data.drop(labels='Unnamed: 0', axis=1)\n",
    "original_data = original_data.rename(columns={'question_number':'question_id','question_text':'question','answer_model':'ref_answer','answer_student':'student_answer','score_avg':'grade'})"
   ]
  },
  {
   "cell_type": "markdown",
   "metadata": {},
   "source": [
    "## Preprocessing"
   ]
  },
  {
   "cell_type": "code",
   "execution_count": 4,
   "metadata": {},
   "outputs": [],
   "source": [
    "df = original_data.copy()\n",
    "\n",
    "#converting to lower case\n",
    "df['ref_modified'] = df['ref_answer'].apply(lambda x: \" \".join(x.lower() for x in x.split()))\n",
    "df['student_modified'] = df['student_answer'].apply(lambda x: \" \".join(x.lower() for x in x.split()))\n",
    "\n",
    "#punctuation removal\n",
    "df['ref_modified'] = df['ref_modified'].str.replace('[^\\w\\s]','')\n",
    "df['student_modified'] = df['student_modified'].str.replace('[^\\w\\s]','')\n",
    "\n",
    "#stop word removal\n",
    "stop = stopwords.words('english')\n",
    "df['ref_modified'] = df['ref_modified'].apply(lambda x: \" \".join(x for x in x.split() if x not in stop))\n",
    "df['student_modified'] = df['student_modified'].apply(lambda x: \" \".join(x for x in x.split() if x not in stop))\n",
    "\n",
    "\n",
    "#lemmatisation\n",
    "df['ref_modified'] = df['ref_modified'].apply(lambda x: \" \".join([Word(word).lemmatize() for word in word_tokenize(x)]))\n",
    "df['student_modified'] = df['student_modified'].apply(lambda x: \" \".join([Word(word).lemmatize() for word in word_tokenize(x)]))"
   ]
  },
  {
   "cell_type": "markdown",
   "metadata": {},
   "source": [
    "# Gathering required features"
   ]
  },
  {
   "cell_type": "code",
   "execution_count": 5,
   "metadata": {},
   "outputs": [],
   "source": [
    "short_df = df[['question_id','question','student_answer','student_modified','ref_modified' ,'grade']]\n",
    "short_df['status'] = short_df['grade'] >= 3\n",
    "short_df['status'] = short_df['status'].astype(int)\n",
    "ques_id_list = list(short_df['question_id'].unique())\n",
    "\n",
    "# FOR ONE BY ONE QUESTION\n",
    "# short_df = short_df[short_df['question_id'] == ques_id_list[0]]\n",
    "# ques_id_list.pop(0)\n",
    "# ques_id_list\n",
    "# ======================"
   ]
  },
  {
   "cell_type": "markdown",
   "metadata": {},
   "source": [
    "# Bag of words"
   ]
  },
  {
   "cell_type": "code",
   "execution_count": 6,
   "metadata": {},
   "outputs": [],
   "source": [
    "# short_df['word_count'] = short_df['student_answer'].apply(lambda x: dict(Counter(x.split())))\n",
    "\n",
    "# counting unique words in every student's answer\n",
    "CV = CountVectorizer()\n",
    "student_answer_count_vector = CV.fit_transform(short_df['student_modified'])\n",
    "student_answer_count_vector = student_answer_count_vector.toarray()\n",
    "\n",
    "X = student_answer_count_vector\n",
    "Y = short_df['status'].values"
   ]
  },
  {
   "cell_type": "markdown",
   "metadata": {},
   "source": [
    "# Seeding"
   ]
  },
  {
   "cell_type": "code",
   "execution_count": 7,
   "metadata": {},
   "outputs": [
    {
     "data": {
      "text/plain": [
       "[0, 5]"
      ]
     },
     "execution_count": 7,
     "metadata": {},
     "output_type": "execute_result"
    }
   ],
   "source": [
    "#getting the seed index\n",
    "classes = short_df['status'].unique()\n",
    "seed_index = []\n",
    "for i in classes:\n",
    "    seed_index.append(short_df['status'][short_df['status']==i].index[0])\n",
    "seed_index"
   ]
  },
  {
   "cell_type": "code",
   "execution_count": 15,
   "metadata": {},
   "outputs": [
    {
     "name": "stdout",
     "output_type": "stream",
     "text": [
      "Accuracy after query no. 1: 0.129971\n",
      "Accuracy after query no. 2: 0.130025\n",
      "Accuracy after query no. 3: 0.129668\n",
      "Accuracy after query no. 4: 0.130131\n",
      "Accuracy after query no. 5: 0.130185\n",
      "Accuracy after query no. 6: 0.129827\n",
      "Accuracy after query no. 7: 0.129881\n",
      "Accuracy after query no. 8: 0.135280\n",
      "Accuracy after query no. 9: 0.138215\n",
      "Accuracy after query no. 10: 0.150206\n",
      "Accuracy after query no. 11: 0.158913\n",
      "Accuracy after query no. 12: 0.159390\n",
      "Accuracy after query no. 13: 0.181706\n",
      "Accuracy after query no. 14: 0.164468\n",
      "Accuracy after query no. 15: 0.216907\n",
      "Accuracy after query no. 16: 0.216584\n",
      "Accuracy after query no. 17: 0.216261\n",
      "Accuracy after query no. 18: 0.225021\n",
      "Accuracy after query no. 19: 0.232549\n",
      "Accuracy after query no. 20: 0.238843\n",
      "Accuracy after query no. 21: 0.244729\n",
      "Accuracy after query no. 22: 0.258478\n",
      "Accuracy after query no. 23: 0.366156\n",
      "Accuracy after query no. 24: 0.350993\n",
      "Accuracy after query no. 25: 0.459213\n",
      "Accuracy after query no. 26: 0.590307\n",
      "Accuracy after query no. 27: 0.646498\n",
      "Accuracy after query no. 28: 0.657546\n",
      "Accuracy after query no. 29: 0.700124\n",
      "Accuracy after query no. 30: 0.742739\n",
      "Accuracy after query no. 31: 0.749689\n",
      "Accuracy after query no. 32: 0.775332\n",
      "Accuracy after query no. 33: 0.775239\n",
      "Accuracy after query no. 34: 0.757689\n",
      "Accuracy after query no. 35: 0.780457\n",
      "Accuracy after query no. 36: 0.799917\n",
      "Accuracy after query no. 37: 0.836871\n",
      "Accuracy after query no. 38: 0.836803\n",
      "Accuracy after query no. 39: 0.841733\n",
      "Accuracy after query no. 40: 0.854167\n",
      "Accuracy after query no. 41: 0.853689\n",
      "Accuracy after query no. 42: 0.859883\n",
      "Accuracy after query no. 43: 0.852315\n",
      "Accuracy after query no. 44: 0.857262\n",
      "Accuracy after query no. 45: 0.860125\n",
      "Accuracy after query no. 46: 0.860067\n",
      "Accuracy after query no. 47: 0.860008\n",
      "Accuracy after query no. 48: 0.859950\n",
      "Accuracy after query no. 49: 0.869511\n",
      "Accuracy after query no. 50: 0.869456\n",
      "Accuracy after query no. 51: 0.869820\n",
      "Accuracy after query no. 52: 0.865997\n",
      "Accuracy after query no. 53: 0.865941\n",
      "Accuracy after query no. 54: 0.865884\n",
      "Accuracy after query no. 55: 0.865828\n",
      "Accuracy after query no. 56: 0.865772\n",
      "Accuracy after query no. 57: 0.865715\n",
      "Accuracy after query no. 58: 0.865659\n",
      "Accuracy after query no. 59: 0.865603\n",
      "Accuracy after query no. 60: 0.865546\n",
      "Accuracy after query no. 61: 0.865490\n",
      "Accuracy after query no. 62: 0.865433\n",
      "Accuracy after query no. 63: 0.865377\n",
      "Accuracy after query no. 64: 0.865320\n",
      "Accuracy after query no. 65: 0.865263\n",
      "Accuracy after query no. 66: 0.865206\n",
      "Accuracy after query no. 67: 0.867678\n",
      "Accuracy after query no. 68: 0.867622\n",
      "Accuracy after query no. 69: 0.867566\n",
      "Accuracy after query no. 70: 0.867511\n",
      "Accuracy after query no. 71: 0.867033\n",
      "Accuracy after query no. 72: 0.866976\n",
      "Accuracy after query no. 73: 0.866920\n",
      "Accuracy after query no. 74: 0.866864\n",
      "Accuracy after query no. 75: 0.866808\n",
      "Accuracy after query no. 76: 0.866751\n",
      "Accuracy after query no. 77: 0.868811\n",
      "Accuracy after query no. 78: 0.868755\n",
      "Accuracy after query no. 79: 0.868700\n",
      "Accuracy after query no. 80: 0.868644\n",
      "Accuracy after query no. 81: 0.868588\n",
      "Accuracy after query no. 82: 0.868533\n"
     ]
    },
    {
     "ename": "KeyboardInterrupt",
     "evalue": "",
     "output_type": "error",
     "traceback": [
      "\u001b[0;31m---------------------------------------------------------------------------\u001b[0m",
      "\u001b[0;31mKeyboardInterrupt\u001b[0m                         Traceback (most recent call last)",
      "\u001b[0;32m<ipython-input-15-4f9713e6b2aa>\u001b[0m in \u001b[0;36m<module>\u001b[0;34m()\u001b[0m\n\u001b[1;32m     29\u001b[0m \u001b[0mn_queries\u001b[0m \u001b[0;34m=\u001b[0m \u001b[0mint\u001b[0m\u001b[0;34m(\u001b[0m\u001b[0mlen\u001b[0m\u001b[0;34m(\u001b[0m\u001b[0mX\u001b[0m\u001b[0;34m)\u001b[0m\u001b[0;34m/\u001b[0m\u001b[0;36m10\u001b[0m\u001b[0;34m)\u001b[0m\u001b[0;34m\u001b[0m\u001b[0m\n\u001b[1;32m     30\u001b[0m \u001b[0;32mfor\u001b[0m \u001b[0midx\u001b[0m \u001b[0;32min\u001b[0m \u001b[0mrange\u001b[0m\u001b[0;34m(\u001b[0m\u001b[0mn_queries\u001b[0m\u001b[0;34m)\u001b[0m\u001b[0;34m:\u001b[0m\u001b[0;34m\u001b[0m\u001b[0m\n\u001b[0;32m---> 31\u001b[0;31m     \u001b[0mquery_idx\u001b[0m\u001b[0;34m,\u001b[0m \u001b[0mquery_instance\u001b[0m \u001b[0;34m=\u001b[0m \u001b[0mlearner\u001b[0m\u001b[0;34m.\u001b[0m\u001b[0mquery\u001b[0m\u001b[0;34m(\u001b[0m\u001b[0mX_pool\u001b[0m\u001b[0;34m)\u001b[0m\u001b[0;34m\u001b[0m\u001b[0m\n\u001b[0m\u001b[1;32m     32\u001b[0m \u001b[0;31m#     print(\"\\nQ: \", act_data.loc[int(query_idx),'question'])\u001b[0m\u001b[0;34m\u001b[0m\u001b[0;34m\u001b[0m\u001b[0m\n\u001b[1;32m     33\u001b[0m \u001b[0;31m#     print(\"A: \",act_data.loc[int(query_idx),'student_answer'])\u001b[0m\u001b[0;34m\u001b[0m\u001b[0;34m\u001b[0m\u001b[0m\n",
      "\u001b[0;32m~/anaconda3/envs/maluuba/lib/python3.6/site-packages/modAL/models.py\u001b[0m in \u001b[0;36mquery\u001b[0;34m(self, X, **query_kwargs)\u001b[0m\n\u001b[1;32m    223\u001b[0m         \"\"\"\n\u001b[1;32m    224\u001b[0m \u001b[0;34m\u001b[0m\u001b[0m\n\u001b[0;32m--> 225\u001b[0;31m         \u001b[0mquery_idx\u001b[0m\u001b[0;34m,\u001b[0m \u001b[0mquery_instances\u001b[0m \u001b[0;34m=\u001b[0m \u001b[0mself\u001b[0m\u001b[0;34m.\u001b[0m\u001b[0mquery_strategy\u001b[0m\u001b[0;34m(\u001b[0m\u001b[0mself\u001b[0m\u001b[0;34m,\u001b[0m \u001b[0mX\u001b[0m\u001b[0;34m,\u001b[0m \u001b[0;34m**\u001b[0m\u001b[0mquery_kwargs\u001b[0m\u001b[0;34m)\u001b[0m\u001b[0;34m\u001b[0m\u001b[0m\n\u001b[0m\u001b[1;32m    226\u001b[0m         \u001b[0;32mreturn\u001b[0m \u001b[0mquery_idx\u001b[0m\u001b[0;34m,\u001b[0m \u001b[0mquery_instances\u001b[0m\u001b[0;34m\u001b[0m\u001b[0m\n\u001b[1;32m    227\u001b[0m \u001b[0;34m\u001b[0m\u001b[0m\n",
      "\u001b[0;32m~/anaconda3/envs/maluuba/lib/python3.6/site-packages/modAL/uncertainty.py\u001b[0m in \u001b[0;36muncertainty_sampling\u001b[0;34m(classifier, X, n_instances, **uncertainty_measure_kwargs)\u001b[0m\n\u001b[1;32m    137\u001b[0m         \u001b[0mThe\u001b[0m \u001b[0minstances\u001b[0m \u001b[0;32mfrom\u001b[0m \u001b[0mX\u001b[0m \u001b[0mchosen\u001b[0m \u001b[0mto\u001b[0m \u001b[0mbe\u001b[0m \u001b[0mlabelled\u001b[0m\u001b[0;34m.\u001b[0m\u001b[0;34m\u001b[0m\u001b[0m\n\u001b[1;32m    138\u001b[0m     \"\"\"\n\u001b[0;32m--> 139\u001b[0;31m     \u001b[0muncertainty\u001b[0m \u001b[0;34m=\u001b[0m \u001b[0mclassifier_uncertainty\u001b[0m\u001b[0;34m(\u001b[0m\u001b[0mclassifier\u001b[0m\u001b[0;34m,\u001b[0m \u001b[0mX\u001b[0m\u001b[0;34m,\u001b[0m \u001b[0;34m**\u001b[0m\u001b[0muncertainty_measure_kwargs\u001b[0m\u001b[0;34m)\u001b[0m\u001b[0;34m\u001b[0m\u001b[0m\n\u001b[0m\u001b[1;32m    140\u001b[0m     \u001b[0mquery_idx\u001b[0m \u001b[0;34m=\u001b[0m \u001b[0mmulti_argmax\u001b[0m\u001b[0;34m(\u001b[0m\u001b[0muncertainty\u001b[0m\u001b[0;34m,\u001b[0m \u001b[0mn_instances\u001b[0m\u001b[0;34m=\u001b[0m\u001b[0mn_instances\u001b[0m\u001b[0;34m)\u001b[0m\u001b[0;34m\u001b[0m\u001b[0m\n\u001b[1;32m    141\u001b[0m \u001b[0;34m\u001b[0m\u001b[0m\n",
      "\u001b[0;32m~/anaconda3/envs/maluuba/lib/python3.6/site-packages/modAL/uncertainty.py\u001b[0m in \u001b[0;36mclassifier_uncertainty\u001b[0;34m(classifier, X, **predict_proba_kwargs)\u001b[0m\n\u001b[1;32m     38\u001b[0m     \"\"\"\n\u001b[1;32m     39\u001b[0m     \u001b[0;31m# calculate uncertainty for each point provided\u001b[0m\u001b[0;34m\u001b[0m\u001b[0;34m\u001b[0m\u001b[0m\n\u001b[0;32m---> 40\u001b[0;31m     \u001b[0mclasswise_uncertainty\u001b[0m \u001b[0;34m=\u001b[0m \u001b[0mclassifier\u001b[0m\u001b[0;34m.\u001b[0m\u001b[0mpredict_proba\u001b[0m\u001b[0;34m(\u001b[0m\u001b[0mX\u001b[0m\u001b[0;34m,\u001b[0m \u001b[0;34m**\u001b[0m\u001b[0mpredict_proba_kwargs\u001b[0m\u001b[0;34m)\u001b[0m\u001b[0;34m\u001b[0m\u001b[0m\n\u001b[0m\u001b[1;32m     41\u001b[0m \u001b[0;34m\u001b[0m\u001b[0m\n\u001b[1;32m     42\u001b[0m     \u001b[0;31m# for each point, select the maximum uncertainty\u001b[0m\u001b[0;34m\u001b[0m\u001b[0;34m\u001b[0m\u001b[0m\n",
      "\u001b[0;32m~/anaconda3/envs/maluuba/lib/python3.6/site-packages/modAL/models.py\u001b[0m in \u001b[0;36mpredict_proba\u001b[0;34m(self, X, **predict_proba_kwargs)\u001b[0m\n\u001b[1;32m    198\u001b[0m             \u001b[0mClass\u001b[0m \u001b[0mprobabilities\u001b[0m \u001b[0;32mfor\u001b[0m \u001b[0mX\u001b[0m\u001b[0;34m.\u001b[0m\u001b[0;34m\u001b[0m\u001b[0m\n\u001b[1;32m    199\u001b[0m         \"\"\"\n\u001b[0;32m--> 200\u001b[0;31m         \u001b[0;32mreturn\u001b[0m \u001b[0mself\u001b[0m\u001b[0;34m.\u001b[0m\u001b[0mestimator\u001b[0m\u001b[0;34m.\u001b[0m\u001b[0mpredict_proba\u001b[0m\u001b[0;34m(\u001b[0m\u001b[0mX\u001b[0m\u001b[0;34m,\u001b[0m \u001b[0;34m**\u001b[0m\u001b[0mpredict_proba_kwargs\u001b[0m\u001b[0;34m)\u001b[0m\u001b[0;34m\u001b[0m\u001b[0m\n\u001b[0m\u001b[1;32m    201\u001b[0m \u001b[0;34m\u001b[0m\u001b[0m\n\u001b[1;32m    202\u001b[0m     \u001b[0;32mdef\u001b[0m \u001b[0mquery\u001b[0m\u001b[0;34m(\u001b[0m\u001b[0mself\u001b[0m\u001b[0;34m,\u001b[0m \u001b[0mX\u001b[0m\u001b[0;34m,\u001b[0m \u001b[0;34m**\u001b[0m\u001b[0mquery_kwargs\u001b[0m\u001b[0;34m)\u001b[0m\u001b[0;34m:\u001b[0m\u001b[0;34m\u001b[0m\u001b[0m\n",
      "\u001b[0;32m~/anaconda3/envs/maluuba/lib/python3.6/site-packages/sklearn/svm/base.py\u001b[0m in \u001b[0;36m_predict_proba\u001b[0;34m(self, X)\u001b[0m\n\u001b[1;32m    598\u001b[0m         pred_proba = (self._sparse_predict_proba\n\u001b[1;32m    599\u001b[0m                       if self._sparse else self._dense_predict_proba)\n\u001b[0;32m--> 600\u001b[0;31m         \u001b[0;32mreturn\u001b[0m \u001b[0mpred_proba\u001b[0m\u001b[0;34m(\u001b[0m\u001b[0mX\u001b[0m\u001b[0;34m)\u001b[0m\u001b[0;34m\u001b[0m\u001b[0m\n\u001b[0m\u001b[1;32m    601\u001b[0m \u001b[0;34m\u001b[0m\u001b[0m\n\u001b[1;32m    602\u001b[0m     \u001b[0;34m@\u001b[0m\u001b[0mproperty\u001b[0m\u001b[0;34m\u001b[0m\u001b[0m\n",
      "\u001b[0;32m~/anaconda3/envs/maluuba/lib/python3.6/site-packages/sklearn/svm/base.py\u001b[0m in \u001b[0;36m_dense_predict_proba\u001b[0;34m(self, X)\u001b[0m\n\u001b[1;32m    646\u001b[0m             \u001b[0mself\u001b[0m\u001b[0;34m.\u001b[0m\u001b[0mprobA_\u001b[0m\u001b[0;34m,\u001b[0m \u001b[0mself\u001b[0m\u001b[0;34m.\u001b[0m\u001b[0mprobB_\u001b[0m\u001b[0;34m,\u001b[0m\u001b[0;34m\u001b[0m\u001b[0m\n\u001b[1;32m    647\u001b[0m             \u001b[0msvm_type\u001b[0m\u001b[0;34m=\u001b[0m\u001b[0msvm_type\u001b[0m\u001b[0;34m,\u001b[0m \u001b[0mkernel\u001b[0m\u001b[0;34m=\u001b[0m\u001b[0mkernel\u001b[0m\u001b[0;34m,\u001b[0m \u001b[0mdegree\u001b[0m\u001b[0;34m=\u001b[0m\u001b[0mself\u001b[0m\u001b[0;34m.\u001b[0m\u001b[0mdegree\u001b[0m\u001b[0;34m,\u001b[0m\u001b[0;34m\u001b[0m\u001b[0m\n\u001b[0;32m--> 648\u001b[0;31m             cache_size=self.cache_size, coef0=self.coef0, gamma=self._gamma)\n\u001b[0m\u001b[1;32m    649\u001b[0m \u001b[0;34m\u001b[0m\u001b[0m\n\u001b[1;32m    650\u001b[0m         \u001b[0;32mreturn\u001b[0m \u001b[0mpprob\u001b[0m\u001b[0;34m\u001b[0m\u001b[0m\n",
      "\u001b[0;31mKeyboardInterrupt\u001b[0m: "
     ]
    }
   ],
   "source": [
    "act_data = short_df.copy()\n",
    "accuracy_list = []\n",
    "\n",
    "# initialising\n",
    "train_idx = seed_index\n",
    "X_train = X[train_idx]\n",
    "y_train = Y[train_idx]\n",
    " \n",
    "# generating the pool\n",
    "X_pool = np.delete(X, train_idx, axis=0)\n",
    "y_pool = np.delete(Y, train_idx)\n",
    "\n",
    "act_data = act_data.drop(axis=0,index = train_idx)\n",
    "act_data.reset_index(drop = True,inplace=True)\n",
    "\n",
    "\n",
    "# initializing the active learner\n",
    "# lr = LogisticRegression()\n",
    "nb = MultinomialNB()\n",
    "learner = ActiveLearner(\n",
    "#     estimator = lr,\n",
    "    estimator = nb,\n",
    "#     estimator = RandomForestClassifier(n_estimators=5),\n",
    "#     estimator=KNeighborsClassifier(n_neighbors=3),\n",
    "    X_training=X_train, y_training=y_train\n",
    ")\n",
    "\n",
    "# pool-based sampling\n",
    "n_queries = int(len(X)/10)\n",
    "for idx in range(n_queries):\n",
    "    query_idx, query_instance = learner.query(X_pool)\n",
    "#     print(\"\\nQ: \", act_data.loc[int(query_idx),'question'])\n",
    "#     print(\"A: \",act_data.loc[int(query_idx),'student_answer'])\n",
    "#     print(\"Actual grade: \",y_pool[query_idx].reshape(1, ))\n",
    "#     print (\"Class probabilities: \",learner.predict_proba(X_pool[query_idx].reshape(1, -1)))\n",
    "#     human_label = int(input(\"\\nGive me a grade 0 or 1:\"))\n",
    "    \n",
    "    learner.teach(\n",
    "        X=X_pool[query_idx].reshape(1, -1),\n",
    "        y=y_pool[query_idx].reshape(1, )\n",
    "    )\n",
    "    \n",
    "    # remove queried instance from pool\n",
    "    X_pool = np.delete(X_pool, query_idx, axis=0)\n",
    "    y_pool = np.delete(y_pool, query_idx)\n",
    "    \n",
    "    act_data = act_data.drop(axis=0,index = query_idx)\n",
    "    act_data.reset_index(drop=True, inplace=True)\n",
    "    \n",
    "    accuracy_list.append(learner.score(X,Y))\n",
    "    print('Accuracy after query no. %d: %f' % (idx+1, learner.score(X_pool, y_pool)))\n",
    "print(\"======================================\")\n",
    "print(\"By just labelling \",round(n_queries*100.0/len(X),2),\"% of total data accuracy of \", round(learner.score(X_pool, y_pool),3), \" % is achieved on the unseen data\"  )"
   ]
  },
  {
   "cell_type": "markdown",
   "metadata": {},
   "source": [
    "## Regular supervised task"
   ]
  },
  {
   "cell_type": "code",
   "execution_count": 9,
   "metadata": {},
   "outputs": [],
   "source": [
    "from sklearn.model_selection import train_test_split"
   ]
  },
  {
   "cell_type": "code",
   "execution_count": 10,
   "metadata": {},
   "outputs": [],
   "source": [
    "check_X = np.copy(X)\n",
    "check_Y = np.copy(Y)\n",
    "\n",
    "X_train,X_test,Y_train,Y_test = train_test_split(check_X,check_Y,test_size = 0.2)"
   ]
  },
  {
   "cell_type": "code",
   "execution_count": 11,
   "metadata": {},
   "outputs": [
    {
     "name": "stdout",
     "output_type": "stream",
     "text": [
      "0.8711656441717791\n"
     ]
    }
   ],
   "source": [
    "# logisticRegr = LogisticRegression()\n",
    "nb.fit(X_train, Y_train)\n",
    "score = nb.score(X_test, Y_test)\n",
    "\n",
    "print(score)"
   ]
  },
  {
   "cell_type": "code",
   "execution_count": 12,
   "metadata": {},
   "outputs": [
    {
     "data": {
      "image/png": "[encoded data removed]",
      "text/plain": [
       "<Figure size 432x288 with 1 Axes>"
      ]
     },
     "metadata": {},
     "output_type": "display_data"
    }
   ],
   "source": [
    "supervised_accuracy = [score for x in range(0,n_queries)]\n",
    "\n",
    "plt.figure()\n",
    "plt.plot(np.linspace(0,n_queries-1,n_queries),supervised_accuracy)\n",
    "plt.plot(accuracy_list)\n",
    "plt.title(\"Accuracy after every query\")\n",
    "plt.xlabel(\"Query number\")\n",
    "plt.ylabel(\"Accuracy\")\n",
    "plt.legend([\"Supervised\", \"Active Learning\"], loc=\"lower right\")\n",
    "plt.show()"
   ]
  },
  {
   "cell_type": "code",
   "execution_count": null,
   "metadata": {},
   "outputs": [],
   "source": []
  }
 ],
 "metadata": {
  "kernelspec": {
   "display_name": "nlgeval",
   "language": "python",
   "name": "maluuba"
  },
  "language_info": {
   "codemirror_mode": {
    "name": "ipython",
    "version": 3
   },
   "file_extension": ".py",
   "mimetype": "text/x-python",
   "name": "python",
   "nbconvert_exporter": "python",
   "pygments_lexer": "ipython3",
   "version": "3.6.6"
  }
 },
 "nbformat": 4,
 "nbformat_minor": 2
}
