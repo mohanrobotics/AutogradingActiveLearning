{
 "cells": [
  {
   "cell_type": "markdown",
   "metadata": {},
   "source": [
    "# Binary classification - single_model using Naive Bayes"
   ]
  },
  {
   "cell_type": "markdown",
   "metadata": {},
   "source": [
    "# Importing and Preprocessing"
   ]
  },
  {
   "cell_type": "markdown",
   "metadata": {
    "heading_collapsed": true
   },
   "source": [
    "## Importing libraries"
   ]
  },
  {
   "cell_type": "code",
   "execution_count": 20,
   "metadata": {
    "hidden": true
   },
   "outputs": [],
   "source": [
    "#### import numpy as np\n",
    "import pandas as pd\n",
    "import matplotlib.pyplot as plt\n",
    "import numpy as np\n",
    "\n",
    "from nltk.corpus import stopwords\n",
    "from nltk.stem import PorterStemmer\n",
    "from nltk.tokenize import word_tokenize\n",
    "from textblob import Word\n",
    "from textblob import TextBlob\n",
    "\n",
    "from collections import Counter\n",
    "from sklearn.model_selection import train_test_split\n",
    "from sklearn.feature_extraction.text import CountVectorizer\n",
    "from sklearn.linear_model import LogisticRegression\n",
    "\n",
    "from sklearn.decomposition import PCA\n",
    "from sklearn.datasets import load_iris\n",
    "from sklearn.neighbors import KNeighborsClassifier\n",
    "from sklearn.ensemble import RandomForestClassifier\n",
    "from sklearn.naive_bayes import MultinomialNB\n",
    "\n",
    "from modAL.models import ActiveLearner\n",
    "from modAL.models import ActiveLearner\n",
    "\n",
    "import en_core_web_sm\n",
    "nlp = en_core_web_sm.load()\n",
    "\n",
    "%matplotlib inline"
   ]
  },
  {
   "cell_type": "markdown",
   "metadata": {},
   "source": [
    "## Importing files"
   ]
  },
  {
   "cell_type": "code",
   "execution_count": 67,
   "metadata": {},
   "outputs": [],
   "source": [
    "original_data = pd.read_csv('../dataset/mohler2_cleaned.csv' ,dtype = {'question_number':str})\n",
    "original_data = original_data.drop(labels='Unnamed: 0', axis=1)\n",
    "original_data = original_data.rename(columns={'question_number':'question_id','question_text':'question','answer_model':'ref_answer','answer_student':'student_answer','score_avg':'grade'})"
   ]
  },
  {
   "cell_type": "markdown",
   "metadata": {},
   "source": [
    "## Preprocessing"
   ]
  },
  {
   "cell_type": "code",
   "execution_count": 22,
   "metadata": {},
   "outputs": [],
   "source": [
    "df = original_data.copy()\n",
    "\n",
    "#converting to lower case\n",
    "df['ref_modified'] = df['ref_answer'].apply(lambda x: \" \".join(x.lower() for x in x.split()))\n",
    "df['student_modified'] = df['student_answer'].apply(lambda x: \" \".join(x.lower() for x in x.split()))\n",
    "\n",
    "#punctuation removal\n",
    "df['ref_modified'] = df['ref_modified'].str.replace('[^\\w\\s]','')\n",
    "df['student_modified'] = df['student_modified'].str.replace('[^\\w\\s]','')\n",
    "\n",
    "#stop word removal\n",
    "stop = stopwords.words('english')\n",
    "df['ref_modified'] = df['ref_modified'].apply(lambda x: \" \".join(x for x in x.split() if x not in stop))\n",
    "df['student_modified'] = df['student_modified'].apply(lambda x: \" \".join(x for x in x.split() if x not in stop))\n",
    "\n",
    "\n",
    "#lemmatisation\n",
    "df['ref_modified'] = df['ref_modified'].apply(lambda x: \" \".join([Word(word).lemmatize() for word in word_tokenize(x)]))\n",
    "df['student_modified'] = df['student_modified'].apply(lambda x: \" \".join([Word(word).lemmatize() for word in word_tokenize(x)]))"
   ]
  },
  {
   "cell_type": "markdown",
   "metadata": {},
   "source": [
    "# Gathering required features"
   ]
  },
  {
   "cell_type": "code",
   "execution_count": 62,
   "metadata": {},
   "outputs": [],
   "source": [
    "short_df = df[['question_id','question','student_answer','student_modified','ref_modified' ,'grade']]\n",
    "short_df['status'] = short_df['grade'] >= 3\n",
    "short_df['status'] = short_df['status'].astype(int)\n",
    "ques_id_list = list(short_df['question_id'].unique())\n",
    "\n",
    "# FOR ONE BY ONE QUESTION\n",
    "# short_df = short_df[short_df['question_id'] == ques_id_list[0]]\n",
    "# ques_id_list.pop(0)\n",
    "# ques_id_list\n",
    "# ======================"
   ]
  },
  {
   "cell_type": "markdown",
   "metadata": {},
   "source": [
    "# Bag of words"
   ]
  },
  {
   "cell_type": "code",
   "execution_count": 63,
   "metadata": {},
   "outputs": [],
   "source": [
    "# short_df['word_count'] = short_df['student_answer'].apply(lambda x: dict(Counter(x.split())))\n",
    "\n",
    "# counting unique words in every student's answer\n",
    "CV = CountVectorizer()\n",
    "student_answer_count_vector = CV.fit_transform(short_df['student_modified'])\n",
    "student_answer_count_vector = student_answer_count_vector.toarray()\n",
    "\n",
    "X = student_answer_count_vector\n",
    "Y = short_df['status'].values"
   ]
  },
  {
   "cell_type": "markdown",
   "metadata": {},
   "source": [
    "# Seeding"
   ]
  },
  {
   "cell_type": "code",
   "execution_count": 64,
   "metadata": {},
   "outputs": [
    {
     "data": {
      "text/plain": [
       "[0, 5]"
      ]
     },
     "execution_count": 64,
     "metadata": {},
     "output_type": "execute_result"
    }
   ],
   "source": [
    "#getting the seed index\n",
    "classes = short_df['status'].unique()\n",
    "seed_index = []\n",
    "for i in classes:\n",
    "    seed_index.append(short_df['status'][short_df['status']==i].index[0])\n",
    "seed_index"
   ]
  },
  {
   "cell_type": "code",
   "execution_count": 66,
   "metadata": {},
   "outputs": [
    {
     "name": "stdout",
     "output_type": "stream",
     "text": [
      "Accuracy after query no. 1: 0.174662\n",
      "Accuracy after query no. 2: 0.147252\n",
      "Accuracy after query no. 3: 0.543701\n",
      "Accuracy after query no. 4: 0.656814\n",
      "Accuracy after query no. 5: 0.640657\n",
      "Accuracy after query no. 6: 0.670090\n",
      "Accuracy after query no. 7: 0.770242\n",
      "Accuracy after query no. 8: 0.662829\n",
      "Accuracy after query no. 9: 0.656520\n",
      "Accuracy after query no. 10: 0.670370\n",
      "Accuracy after query no. 11: 0.648003\n",
      "Accuracy after query no. 12: 0.688221\n",
      "Accuracy after query no. 13: 0.646065\n",
      "Accuracy after query no. 14: 0.659522\n",
      "Accuracy after query no. 15: 0.728247\n",
      "Accuracy after query no. 16: 0.669554\n",
      "Accuracy after query no. 17: 0.725547\n",
      "Accuracy after query no. 18: 0.742775\n",
      "Accuracy after query no. 19: 0.759190\n",
      "Accuracy after query no. 20: 0.771901\n",
      "Accuracy after query no. 21: 0.813559\n",
      "Accuracy after query no. 22: 0.800248\n",
      "Accuracy after query no. 23: 0.808026\n",
      "Accuracy after query no. 24: 0.819536\n",
      "Accuracy after query no. 25: 0.826915\n",
      "Accuracy after query no. 26: 0.837614\n",
      "Accuracy after query no. 27: 0.842105\n",
      "Accuracy after query no. 28: 0.844942\n",
      "Accuracy after query no. 29: 0.846122\n",
      "Accuracy after query no. 30: 0.857676\n",
      "Accuracy after query no. 31: 0.847240\n",
      "Accuracy after query no. 32: 0.845515\n",
      "Accuracy after query no. 33: 0.845866\n",
      "Accuracy after query no. 34: 0.852037\n",
      "Accuracy after query no. 35: 0.852807\n",
      "Accuracy after query no. 36: 0.856073\n",
      "Accuracy after query no. 37: 0.855181\n",
      "Accuracy after query no. 38: 0.860949\n",
      "Accuracy after query no. 39: 0.862557\n",
      "Accuracy after query no. 40: 0.858750\n",
      "Accuracy after query no. 41: 0.862026\n",
      "Accuracy after query no. 42: 0.863219\n",
      "Accuracy after query no. 43: 0.865248\n",
      "Accuracy after query no. 44: 0.865192\n",
      "Accuracy after query no. 45: 0.865136\n",
      "Accuracy after query no. 46: 0.865079\n",
      "Accuracy after query no. 47: 0.865023\n",
      "Accuracy after query no. 48: 0.865803\n",
      "Accuracy after query no. 49: 0.866165\n",
      "Accuracy after query no. 50: 0.866109\n",
      "Accuracy after query no. 51: 0.860611\n",
      "Accuracy after query no. 52: 0.859296\n",
      "Accuracy after query no. 53: 0.863008\n",
      "Accuracy after query no. 54: 0.862951\n",
      "Accuracy after query no. 55: 0.862893\n",
      "Accuracy after query no. 56: 0.863674\n",
      "Accuracy after query no. 57: 0.863198\n",
      "Accuracy after query no. 58: 0.862720\n",
      "Accuracy after query no. 59: 0.863503\n",
      "Accuracy after query no. 60: 0.866807\n",
      "Accuracy after query no. 61: 0.867591\n",
      "Accuracy after query no. 62: 0.867956\n",
      "Accuracy after query no. 63: 0.867901\n",
      "Accuracy after query no. 64: 0.868266\n",
      "Accuracy after query no. 65: 0.866105\n",
      "Accuracy after query no. 66: 0.868576\n",
      "Accuracy after query no. 67: 0.869364\n",
      "Accuracy after query no. 68: 0.868465\n",
      "Accuracy after query no. 69: 0.868410\n",
      "Accuracy after query no. 70: 0.868776\n",
      "Accuracy after query no. 71: 0.868721\n",
      "Accuracy after query no. 72: 0.868243\n",
      "Accuracy after query no. 73: 0.868188\n",
      "Accuracy after query no. 74: 0.868132\n",
      "Accuracy after query no. 75: 0.876956\n",
      "Accuracy after query no. 76: 0.876904\n",
      "Accuracy after query no. 77: 0.877275\n",
      "Accuracy after query no. 78: 0.877223\n",
      "Accuracy after query no. 79: 0.877594\n",
      "Accuracy after query no. 80: 0.877542\n",
      "Accuracy after query no. 81: 0.877490\n",
      "Accuracy after query no. 82: 0.877439\n",
      "Accuracy after query no. 83: 0.877387\n",
      "Accuracy after query no. 84: 0.877334\n",
      "Accuracy after query no. 85: 0.877282\n",
      "Accuracy after query no. 86: 0.877655\n",
      "Accuracy after query no. 87: 0.878028\n",
      "Accuracy after query no. 88: 0.877976\n",
      "Accuracy after query no. 89: 0.877924\n",
      "Accuracy after query no. 90: 0.878298\n",
      "Accuracy after query no. 91: 0.878672\n",
      "Accuracy after query no. 92: 0.878620\n",
      "Accuracy after query no. 93: 0.878994\n",
      "Accuracy after query no. 94: 0.878090\n",
      "Accuracy after query no. 95: 0.878465\n",
      "Accuracy after query no. 96: 0.878840\n",
      "Accuracy after query no. 97: 0.879215\n",
      "Accuracy after query no. 98: 0.879163\n",
      "Accuracy after query no. 99: 0.879111\n",
      "Accuracy after query no. 100: 0.879487\n",
      "Accuracy after query no. 101: 0.879436\n",
      "Accuracy after query no. 102: 0.879384\n",
      "Accuracy after query no. 103: 0.881472\n",
      "Accuracy after query no. 104: 0.881849\n",
      "Accuracy after query no. 105: 0.881799\n",
      "Accuracy after query no. 106: 0.882177\n",
      "Accuracy after query no. 107: 0.882126\n",
      "Accuracy after query no. 108: 0.882075\n",
      "Accuracy after query no. 109: 0.882454\n",
      "Accuracy after query no. 110: 0.882403\n",
      "Accuracy after query no. 111: 0.882353\n",
      "Accuracy after query no. 112: 0.882302\n",
      "Accuracy after query no. 113: 0.882252\n",
      "Accuracy after query no. 114: 0.882201\n",
      "Accuracy after query no. 115: 0.882151\n",
      "Accuracy after query no. 116: 0.882530\n",
      "Accuracy after query no. 117: 0.882910\n",
      "Accuracy after query no. 118: 0.882860\n",
      "Accuracy after query no. 119: 0.882809\n",
      "Accuracy after query no. 120: 0.883621\n",
      "Accuracy after query no. 121: 0.883571\n",
      "Accuracy after query no. 122: 0.883520\n",
      "Accuracy after query no. 123: 0.883470\n",
      "Accuracy after query no. 124: 0.889465\n",
      "Accuracy after query no. 125: 0.889417\n",
      "Accuracy after query no. 126: 0.889369\n",
      "Accuracy after query no. 127: 0.889321\n",
      "Accuracy after query no. 128: 0.889273\n",
      "Accuracy after query no. 129: 0.889658\n",
      "Accuracy after query no. 130: 0.889610\n",
      "Accuracy after query no. 131: 0.889563\n",
      "Accuracy after query no. 132: 0.889515\n",
      "Accuracy after query no. 133: 0.889900\n",
      "Accuracy after query no. 134: 0.890286\n",
      "Accuracy after query no. 135: 0.890239\n",
      "Accuracy after query no. 136: 0.890191\n",
      "Accuracy after query no. 137: 0.890143\n",
      "Accuracy after query no. 138: 0.890530\n",
      "Accuracy after query no. 139: 0.890917\n",
      "Accuracy after query no. 140: 0.890870\n",
      "Accuracy after query no. 141: 0.890822\n",
      "Accuracy after query no. 142: 0.890775\n",
      "Accuracy after query no. 143: 0.890727\n",
      "Accuracy after query no. 144: 0.890679\n",
      "Accuracy after query no. 145: 0.890632\n",
      "Accuracy after query no. 146: 0.890584\n",
      "Accuracy after query no. 147: 0.890973\n",
      "Accuracy after query no. 148: 0.891361\n",
      "Accuracy after query no. 149: 0.891314\n",
      "Accuracy after query no. 150: 0.891266\n",
      "Accuracy after query no. 151: 0.891219\n",
      "Accuracy after query no. 152: 0.891171\n",
      "Accuracy after query no. 153: 0.891124\n",
      "Accuracy after query no. 154: 0.891076\n",
      "Accuracy after query no. 155: 0.891028\n",
      "Accuracy after query no. 156: 0.891419\n",
      "Accuracy after query no. 157: 0.891809\n",
      "Accuracy after query no. 158: 0.892200\n",
      "Accuracy after query no. 159: 0.892591\n",
      "Accuracy after query no. 160: 0.892982\n",
      "Accuracy after query no. 161: 0.893813\n",
      "Accuracy after query no. 162: 0.893766\n",
      "Accuracy after query no. 163: 0.893720\n",
      "Accuracy after query no. 164: 0.893673\n",
      "Accuracy after query no. 165: 0.894066\n",
      "Accuracy after query no. 166: 0.894019\n",
      "Accuracy after query no. 167: 0.893973\n",
      "Accuracy after query no. 168: 0.893926\n",
      "Accuracy after query no. 169: 0.893879\n",
      "Accuracy after query no. 170: 0.894273\n",
      "Accuracy after query no. 171: 0.894227\n",
      "Accuracy after query no. 172: 0.894180\n",
      "Accuracy after query no. 173: 0.894133\n",
      "Accuracy after query no. 174: 0.891880\n",
      "Accuracy after query no. 175: 0.894481\n",
      "Accuracy after query no. 176: 0.894435\n",
      "Accuracy after query no. 177: 0.894388\n",
      "Accuracy after query no. 178: 0.894341\n",
      "Accuracy after query no. 179: 0.894295\n",
      "Accuracy after query no. 180: 0.894248\n",
      "Accuracy after query no. 181: 0.894201\n",
      "Accuracy after query no. 182: 0.894154\n",
      "Accuracy after query no. 183: 0.894550\n",
      "Accuracy after query no. 184: 0.894504\n",
      "Accuracy after query no. 185: 0.894900\n",
      "Accuracy after query no. 186: 0.895297\n",
      "Accuracy after query no. 187: 0.895251\n",
      "Accuracy after query no. 188: 0.895648\n",
      "Accuracy after query no. 189: 0.896046\n",
      "Accuracy after query no. 190: 0.896000\n",
      "Accuracy after query no. 191: 0.896398\n",
      "Accuracy after query no. 192: 0.896352\n",
      "Accuracy after query no. 193: 0.897196\n",
      "Accuracy after query no. 194: 0.897150\n",
      "Accuracy after query no. 195: 0.897105\n",
      "Accuracy after query no. 196: 0.897059\n",
      "Accuracy after query no. 197: 0.897459\n",
      "Accuracy after query no. 198: 0.897413\n",
      "Accuracy after query no. 199: 0.897813\n",
      "Accuracy after query no. 200: 0.897768\n",
      "Accuracy after query no. 201: 0.897722\n",
      "Accuracy after query no. 202: 0.897676\n",
      "Accuracy after query no. 203: 0.897631\n",
      "Accuracy after query no. 204: 0.898032\n",
      "Accuracy after query no. 205: 0.897987\n",
      "Accuracy after query no. 206: 0.898836\n",
      "Accuracy after query no. 207: 0.897447\n",
      "Accuracy after query no. 208: 0.898746\n",
      "Accuracy after query no. 209: 0.898700\n",
      "Accuracy after query no. 210: 0.898655\n",
      "Accuracy after query no. 211: 0.898609\n",
      "Accuracy after query no. 212: 0.899013\n",
      "Accuracy after query no. 213: 0.898967\n"
     ]
    },
    {
     "name": "stdout",
     "output_type": "stream",
     "text": [
      "Accuracy after query no. 214: 0.898922\n",
      "Accuracy after query no. 215: 0.898876\n",
      "Accuracy after query no. 216: 0.898831\n",
      "Accuracy after query no. 217: 0.898785\n",
      "Accuracy after query no. 218: 0.898740\n",
      "Accuracy after query no. 219: 0.898694\n",
      "Accuracy after query no. 220: 0.898649\n",
      "Accuracy after query no. 221: 0.898603\n",
      "Accuracy after query no. 222: 0.898557\n",
      "Accuracy after query no. 223: 0.898512\n",
      "Accuracy after query no. 224: 0.898917\n",
      "Accuracy after query no. 225: 0.898871\n",
      "Accuracy after query no. 226: 0.899277\n",
      "Accuracy after query no. 227: 0.899232\n",
      "Accuracy after query no. 228: 0.899638\n",
      "Accuracy after query no. 229: 0.899593\n",
      "Accuracy after query no. 230: 0.899548\n",
      "Accuracy after query no. 231: 0.899502\n",
      "Accuracy after query no. 232: 0.899457\n",
      "Accuracy after query no. 233: 0.899411\n",
      "Accuracy after query no. 234: 0.899365\n",
      "Accuracy after query no. 235: 0.899320\n",
      "Accuracy after query no. 236: 0.899728\n",
      "Accuracy after query no. 237: 0.899682\n",
      "Accuracy after query no. 238: 0.899637\n",
      "Accuracy after query no. 239: 0.899591\n",
      "Accuracy after query no. 240: 0.900000\n",
      "Accuracy after query no. 241: 0.900409\n",
      "Accuracy after query no. 242: 0.900819\n",
      "Accuracy after query no. 243: 0.900774\n",
      "Accuracy after query no. 244: 0.900729\n",
      "======================================\n",
      "By just labelling  9.99 % of total data accuracy of  0.901  % is achieved on the unseen data\n"
     ]
    }
   ],
   "source": [
    "act_data = short_df.copy()\n",
    "accuracy_list = []\n",
    "\n",
    "# initialising\n",
    "train_idx = seed_index\n",
    "X_train = X[train_idx]\n",
    "y_train = Y[train_idx]\n",
    " \n",
    "# generating the pool\n",
    "X_pool = np.delete(X, train_idx, axis=0)\n",
    "y_pool = np.delete(Y, train_idx)\n",
    "\n",
    "act_data = act_data.drop(axis=0,index = train_idx)\n",
    "act_data.reset_index(drop = True,inplace=True)\n",
    "\n",
    "\n",
    "# initializing the active learner\n",
    "# lr = LogisticRegression()\n",
    "nb = MultinomialNB()\n",
    "learner = ActiveLearner(\n",
    "#     estimator = lr,\n",
    "    estimator = nb,\n",
    "#     estimator = RandomForestClassifier(n_estimators=5),\n",
    "#     estimator=KNeighborsClassifier(n_neighbors=3),\n",
    "    X_training=X_train, y_training=y_train\n",
    ")\n",
    "\n",
    "# pool-based sampling\n",
    "n_queries = int(len(X)/10)\n",
    "for idx in range(n_queries):\n",
    "    query_idx, query_instance = learner.query(X_pool)\n",
    "#     print(\"\\nQ: \", act_data.loc[int(query_idx),'question'])\n",
    "#     print(\"A: \",act_data.loc[int(query_idx),'student_answer'])\n",
    "#     print(\"Actual grade: \",y_pool[query_idx].reshape(1, ))\n",
    "#     print (\"Class probabilities: \",learner.predict_proba(X_pool[query_idx].reshape(1, -1)))\n",
    "#     human_label = int(input(\"\\nGive me a grade 0 or 1:\"))\n",
    "    \n",
    "    learner.teach(\n",
    "        X=X_pool[query_idx].reshape(1, -1),\n",
    "        y=y_pool[query_idx].reshape(1, )\n",
    "    )\n",
    "    \n",
    "    # remove queried instance from pool\n",
    "    X_pool = np.delete(X_pool, query_idx, axis=0)\n",
    "    y_pool = np.delete(y_pool, query_idx)\n",
    "    \n",
    "    act_data = act_data.drop(axis=0,index = query_idx)\n",
    "    act_data.reset_index(drop=True, inplace=True)\n",
    "    \n",
    "    accuracy_list.append(learner.score(X,Y))\n",
    "    print('Accuracy after query no. %d: %f' % (idx+1, learner.score(X_pool, y_pool)))\n",
    "print(\"======================================\")\n",
    "print(\"By just labelling \",round(n_queries*100.0/len(X),2),\"% of total data accuracy of \", round(learner.score(X_pool, y_pool),3), \" % is achieved on the unseen data\"  )"
   ]
  },
  {
   "cell_type": "markdown",
   "metadata": {},
   "source": [
    "## Regular supervised task"
   ]
  },
  {
   "cell_type": "code",
   "execution_count": 41,
   "metadata": {},
   "outputs": [],
   "source": [
    "from sklearn.model_selection import train_test_split"
   ]
  },
  {
   "cell_type": "code",
   "execution_count": 42,
   "metadata": {},
   "outputs": [],
   "source": [
    "check_X = np.copy(X)\n",
    "check_Y = np.copy(Y)\n",
    "\n",
    "X_train,X_test,Y_train,Y_test = train_test_split(check_X,check_Y,test_size = 0.2)"
   ]
  },
  {
   "cell_type": "code",
   "execution_count": 43,
   "metadata": {},
   "outputs": [
    {
     "name": "stdout",
     "output_type": "stream",
     "text": [
      "0.8445807770961146\n"
     ]
    }
   ],
   "source": [
    "# logisticRegr = LogisticRegression()\n",
    "nb.fit(X_train, Y_train)\n",
    "score = nb.score(X_test, Y_test)\n",
    "\n",
    "print(score)"
   ]
  },
  {
   "cell_type": "code",
   "execution_count": 46,
   "metadata": {},
   "outputs": [
    {
     "data": {
      "image/png": "[encoded data removed]",
      "text/plain": [
       "<Figure size 432x288 with 1 Axes>"
      ]
     },
     "metadata": {},
     "output_type": "display_data"
    }
   ],
   "source": [
    "supervised_accuracy = [score for x in range(0,n_queries)]\n",
    "\n",
    "plt.figure()\n",
    "plt.plot(np.linspace(0,n_queries-1,n_queries),supervised_accuracy)\n",
    "plt.plot(accuracy_list)\n",
    "plt.title(\"Accuracy after every query\")\n",
    "plt.xlabel(\"Query number\")\n",
    "plt.ylabel(\"Accuracy\")\n",
    "plt.legend([\"Supervised\", \"Active Learning\"], loc=\"lower right\")\n",
    "plt.show()"
   ]
  }
 ],
 "metadata": {
  "kernelspec": {
   "display_name": "nlgeval",
   "language": "python",
   "name": "maluuba"
  },
  "language_info": {
   "codemirror_mode": {
    "name": "ipython",
    "version": 3
   },
   "file_extension": ".py",
   "mimetype": "text/x-python",
   "name": "python",
   "nbconvert_exporter": "python",
   "pygments_lexer": "ipython3",
   "version": "3.6.6"
  }
 },
 "nbformat": 4,
 "nbformat_minor": 2
}
