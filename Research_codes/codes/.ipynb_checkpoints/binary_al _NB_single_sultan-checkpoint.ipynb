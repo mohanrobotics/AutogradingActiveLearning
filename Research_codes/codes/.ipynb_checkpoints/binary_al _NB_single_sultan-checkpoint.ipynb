{
 "cells": [
  {
   "cell_type": "markdown",
   "metadata": {},
   "source": [
    "# Binary classification - single_model using Naive Bayes(sultan_features)"
   ]
  },
  {
   "cell_type": "markdown",
   "metadata": {},
   "source": [
    "# Importing and Preprocessing"
   ]
  },
  {
   "cell_type": "markdown",
   "metadata": {},
   "source": [
    "## Importing libraries"
   ]
  },
  {
   "cell_type": "code",
   "execution_count": 2,
   "metadata": {},
   "outputs": [],
   "source": [
    "#### import numpy as np\n",
    "import pandas as pd\n",
    "import matplotlib.pyplot as plt\n",
    "import numpy as np\n",
    "\n",
    "from nltk.corpus import stopwords\n",
    "from nltk.stem import PorterStemmer\n",
    "from nltk.tokenize import word_tokenize\n",
    "from textblob import Word\n",
    "from textblob import TextBlob\n",
    "\n",
    "from collections import Counter\n",
    "from sklearn.model_selection import train_test_split\n",
    "from sklearn.feature_extraction.text import CountVectorizer\n",
    "from sklearn.linear_model import LogisticRegression\n",
    "\n",
    "from sklearn.decomposition import PCA\n",
    "from sklearn.datasets import load_iris\n",
    "from sklearn.neighbors import KNeighborsClassifier\n",
    "from sklearn.ensemble import RandomForestClassifier\n",
    "from sklearn.naive_bayes import MultinomialNB\n",
    "\n",
    "from modAL.models import ActiveLearner\n",
    "from modAL.models import ActiveLearner\n",
    "\n",
    "import en_core_web_sm\n",
    "nlp = en_core_web_sm.load()\n",
    "\n",
    "%matplotlib inline"
   ]
  },
  {
   "cell_type": "markdown",
   "metadata": {},
   "source": [
    "# Gathering required features"
   ]
  },
  {
   "cell_type": "code",
   "execution_count": 52,
   "metadata": {},
   "outputs": [],
   "source": [
    "df = pd.read_pickle(\"./sultan_features.pkl\")\n",
    "df = df.fillna(0)"
   ]
  },
  {
   "cell_type": "code",
   "execution_count": 54,
   "metadata": {},
   "outputs": [
    {
     "name": "stderr",
     "output_type": "stream",
     "text": [
      "/home/mohandass/anaconda3/envs/maluuba/lib/python3.6/site-packages/ipykernel_launcher.py:2: SettingWithCopyWarning: \n",
      "A value is trying to be set on a copy of a slice from a DataFrame.\n",
      "Try using .loc[row_indexer,col_indexer] = value instead\n",
      "\n",
      "See the caveats in the documentation: http://pandas.pydata.org/pandas-docs/stable/indexing.html#indexing-view-versus-copy\n",
      "  \n",
      "/home/mohandass/anaconda3/envs/maluuba/lib/python3.6/site-packages/ipykernel_launcher.py:3: SettingWithCopyWarning: \n",
      "A value is trying to be set on a copy of a slice from a DataFrame.\n",
      "Try using .loc[row_indexer,col_indexer] = value instead\n",
      "\n",
      "See the caveats in the documentation: http://pandas.pydata.org/pandas-docs/stable/indexing.html#indexing-view-versus-copy\n",
      "  This is separate from the ipykernel package so we can avoid doing imports until\n"
     ]
    }
   ],
   "source": [
    "short_df = df[['question_id','question','student_answer','student_modified','ref_modified', \\\n",
    "               'grade','length_ratio','aligned_score','aligned_score_demo','cos_similarity','cos_similarity_demo']]\n",
    "short_df['status'] = short_df['grade'] >= 3\n",
    "short_df['status'] = short_df['status'].astype(int)"
   ]
  },
  {
   "cell_type": "markdown",
   "metadata": {},
   "source": [
    "# Sultan features"
   ]
  },
  {
   "cell_type": "code",
   "execution_count": 56,
   "metadata": {},
   "outputs": [],
   "source": [
    "X = short_df[['length_ratio','aligned_score','aligned_score_demo','cos_similarity','cos_similarity_demo']]\n",
    "# X['cos_similarity_demo'].isnull().sum().sum()\n",
    "# X[X.isnull().any(1)]"
   ]
  },
  {
   "cell_type": "code",
   "execution_count": 71,
   "metadata": {},
   "outputs": [
    {
     "name": "stderr",
     "output_type": "stream",
     "text": [
      "/home/mohandass/anaconda3/envs/maluuba/lib/python3.6/site-packages/ipykernel_launcher.py:2: SettingWithCopyWarning: \n",
      "A value is trying to be set on a copy of a slice from a DataFrame.\n",
      "Try using .loc[row_indexer,col_indexer] = value instead\n",
      "\n",
      "See the caveats in the documentation: http://pandas.pydata.org/pandas-docs/stable/indexing.html#indexing-view-versus-copy\n",
      "  \n",
      "/home/mohandass/anaconda3/envs/maluuba/lib/python3.6/site-packages/pandas/core/frame.py:3163: SettingWithCopyWarning: \n",
      "A value is trying to be set on a copy of a slice from a DataFrame\n",
      "\n",
      "See the caveats in the documentation: http://pandas.pydata.org/pandas-docs/stable/indexing.html#indexing-view-versus-copy\n",
      "  self._where(-key, value, inplace=True)\n"
     ]
    }
   ],
   "source": [
    "X = short_df[['length_ratio','aligned_score','aligned_score_demo','cos_similarity','cos_similarity_demo']]\n",
    "X[X<0] = 0\n",
    "Y = short_df['status'].values\n",
    "X = np.array(X)"
   ]
  },
  {
   "cell_type": "markdown",
   "metadata": {},
   "source": [
    "# Seeding"
   ]
  },
  {
   "cell_type": "code",
   "execution_count": 72,
   "metadata": {},
   "outputs": [
    {
     "data": {
      "text/plain": [
       "[0, 5]"
      ]
     },
     "execution_count": 72,
     "metadata": {},
     "output_type": "execute_result"
    }
   ],
   "source": [
    "#getting the seed index\n",
    "classes = short_df['status'].unique()\n",
    "seed_index = []\n",
    "for i in classes:\n",
    "    seed_index.append(short_df['status'][short_df['status']==i].index[0])\n",
    "seed_index"
   ]
  },
  {
   "cell_type": "code",
   "execution_count": 80,
   "metadata": {},
   "outputs": [
    {
     "name": "stdout",
     "output_type": "stream",
     "text": [
      "Accuracy after query no. 1: 0.870439\n",
      "Accuracy after query no. 2: 0.870386\n",
      "Accuracy after query no. 3: 0.870332\n",
      "Accuracy after query no. 4: 0.870279\n",
      "Accuracy after query no. 5: 0.868994\n",
      "Accuracy after query no. 6: 0.771569\n",
      "Accuracy after query no. 7: 0.799425\n",
      "Accuracy after query no. 8: 0.810855\n",
      "Accuracy after query no. 9: 0.795969\n",
      "Accuracy after query no. 10: 0.813169\n",
      "Accuracy after query no. 11: 0.801976\n",
      "Accuracy after query no. 12: 0.787479\n",
      "Accuracy after query no. 13: 0.802637\n",
      "Accuracy after query no. 14: 0.815334\n",
      "Accuracy after query no. 15: 0.822268\n",
      "Accuracy after query no. 16: 0.818069\n",
      "Accuracy after query no. 17: 0.824598\n",
      "Accuracy after query no. 18: 0.827828\n",
      "Accuracy after query no. 19: 0.824453\n",
      "Accuracy after query no. 20: 0.827686\n",
      "Accuracy after query no. 21: 0.830922\n",
      "Accuracy after query no. 22: 0.835401\n",
      "Accuracy after query no. 23: 0.830782\n",
      "Accuracy after query no. 24: 0.834851\n",
      "Accuracy after query no. 25: 0.840166\n",
      "Accuracy after query no. 26: 0.841756\n",
      "Accuracy after query no. 27: 0.845421\n",
      "Accuracy after query no. 28: 0.846186\n",
      "Accuracy after query no. 29: 0.846537\n",
      "Accuracy after query no. 30: 0.846888\n",
      "Accuracy after query no. 31: 0.850145\n",
      "Accuracy after query no. 32: 0.852990\n",
      "Accuracy after query no. 33: 0.850436\n",
      "Accuracy after query no. 34: 0.852868\n",
      "Accuracy after query no. 35: 0.854886\n",
      "Accuracy after query no. 36: 0.857737\n",
      "Accuracy after query no. 37: 0.858510\n",
      "Accuracy after query no. 38: 0.857619\n",
      "Accuracy after query no. 39: 0.858392\n",
      "Accuracy after query no. 40: 0.861250\n",
      "Accuracy after query no. 41: 0.862443\n",
      "Accuracy after query no. 42: 0.865304\n",
      "Accuracy after query no. 43: 0.866083\n",
      "Accuracy after query no. 44: 0.866861\n",
      "Accuracy after query no. 45: 0.867641\n",
      "Accuracy after query no. 46: 0.869256\n",
      "Accuracy after query no. 47: 0.867530\n",
      "Accuracy after query no. 48: 0.867475\n",
      "Accuracy after query no. 49: 0.869092\n",
      "Accuracy after query no. 50: 0.869456\n",
      "Accuracy after query no. 51: 0.870657\n",
      "Accuracy after query no. 52: 0.871441\n",
      "Accuracy after query no. 53: 0.871806\n",
      "Accuracy after query no. 54: 0.872171\n",
      "Accuracy after query no. 55: 0.872117\n",
      "Accuracy after query no. 56: 0.872064\n",
      "Accuracy after query no. 57: 0.872010\n",
      "Accuracy after query no. 58: 0.871956\n",
      "Accuracy after query no. 59: 0.872323\n",
      "Accuracy after query no. 60: 0.872269\n",
      "Accuracy after query no. 61: 0.872215\n",
      "Accuracy after query no. 62: 0.872161\n",
      "Accuracy after query no. 63: 0.872528\n",
      "Accuracy after query no. 64: 0.872475\n",
      "Accuracy after query no. 65: 0.872421\n",
      "Accuracy after query no. 66: 0.872367\n",
      "Accuracy after query no. 67: 0.872735\n",
      "Accuracy after query no. 68: 0.872681\n",
      "Accuracy after query no. 69: 0.872628\n",
      "Accuracy after query no. 70: 0.872574\n",
      "Accuracy after query no. 71: 0.872520\n",
      "Accuracy after query no. 72: 0.872466\n",
      "Accuracy after query no. 73: 0.872412\n",
      "Accuracy after query no. 74: 0.872358\n",
      "Accuracy after query no. 75: 0.872304\n",
      "Accuracy after query no. 76: 0.872250\n",
      "Accuracy after query no. 77: 0.872196\n",
      "Accuracy after query no. 78: 0.872142\n",
      "Accuracy after query no. 79: 0.872088\n",
      "Accuracy after query no. 80: 0.872034\n",
      "Accuracy after query no. 81: 0.872404\n",
      "Accuracy after query no. 82: 0.872349\n",
      "Accuracy after query no. 83: 0.872720\n",
      "Accuracy after query no. 84: 0.873090\n",
      "Accuracy after query no. 85: 0.873036\n",
      "Accuracy after query no. 86: 0.872982\n",
      "Accuracy after query no. 87: 0.872928\n",
      "Accuracy after query no. 88: 0.873299\n",
      "Accuracy after query no. 89: 0.873245\n",
      "Accuracy after query no. 90: 0.873191\n",
      "Accuracy after query no. 91: 0.873138\n",
      "Accuracy after query no. 92: 0.873083\n",
      "Accuracy after query no. 93: 0.873029\n",
      "Accuracy after query no. 94: 0.872975\n",
      "Accuracy after query no. 95: 0.872921\n",
      "Accuracy after query no. 96: 0.872867\n",
      "Accuracy after query no. 97: 0.872813\n",
      "Accuracy after query no. 98: 0.872758\n",
      "Accuracy after query no. 99: 0.873131\n",
      "Accuracy after query no. 100: 0.873077\n",
      "Accuracy after query no. 101: 0.873023\n",
      "Accuracy after query no. 102: 0.872968\n",
      "Accuracy after query no. 103: 0.873342\n",
      "Accuracy after query no. 104: 0.873288\n",
      "Accuracy after query no. 105: 0.873233\n",
      "Accuracy after query no. 106: 0.873179\n",
      "Accuracy after query no. 107: 0.873553\n",
      "Accuracy after query no. 108: 0.873928\n",
      "Accuracy after query no. 109: 0.873874\n",
      "Accuracy after query no. 110: 0.873820\n",
      "Accuracy after query no. 111: 0.873766\n",
      "Accuracy after query no. 112: 0.873711\n",
      "Accuracy after query no. 113: 0.873657\n",
      "Accuracy after query no. 114: 0.873603\n",
      "Accuracy after query no. 115: 0.873548\n",
      "Accuracy after query no. 116: 0.873494\n",
      "Accuracy after query no. 117: 0.873440\n",
      "Accuracy after query no. 118: 0.873816\n",
      "Accuracy after query no. 119: 0.874192\n",
      "Accuracy after query no. 120: 0.874138\n",
      "Accuracy after query no. 121: 0.874084\n",
      "Accuracy after query no. 122: 0.874029\n",
      "Accuracy after query no. 123: 0.873975\n",
      "Accuracy after query no. 124: 0.873921\n",
      "Accuracy after query no. 125: 0.873866\n",
      "Accuracy after query no. 126: 0.873812\n",
      "Accuracy after query no. 127: 0.873757\n",
      "Accuracy after query no. 128: 0.873702\n",
      "Accuracy after query no. 129: 0.873648\n",
      "Accuracy after query no. 130: 0.873593\n",
      "Accuracy after query no. 131: 0.873538\n",
      "Accuracy after query no. 132: 0.873484\n",
      "Accuracy after query no. 133: 0.873862\n",
      "Accuracy after query no. 134: 0.873807\n",
      "Accuracy after query no. 135: 0.873753\n",
      "Accuracy after query no. 136: 0.874132\n",
      "Accuracy after query no. 137: 0.874512\n",
      "Accuracy after query no. 138: 0.874457\n",
      "Accuracy after query no. 139: 0.874402\n",
      "Accuracy after query no. 140: 0.874348\n",
      "Accuracy after query no. 141: 0.874293\n",
      "Accuracy after query no. 142: 0.874238\n",
      "Accuracy after query no. 143: 0.874184\n",
      "Accuracy after query no. 144: 0.874564\n",
      "Accuracy after query no. 145: 0.874510\n",
      "Accuracy after query no. 146: 0.874455\n",
      "Accuracy after query no. 147: 0.874400\n",
      "Accuracy after query no. 148: 0.874346\n",
      "Accuracy after query no. 149: 0.874291\n",
      "Accuracy after query no. 150: 0.874672\n",
      "Accuracy after query no. 151: 0.875055\n",
      "Accuracy after query no. 152: 0.875000\n",
      "Accuracy after query no. 153: 0.875383\n",
      "Accuracy after query no. 154: 0.875328\n",
      "Accuracy after query no. 155: 0.875274\n",
      "Accuracy after query no. 156: 0.875219\n",
      "Accuracy after query no. 157: 0.875164\n",
      "Accuracy after query no. 158: 0.875110\n",
      "Accuracy after query no. 159: 0.875055\n",
      "Accuracy after query no. 160: 0.875000\n",
      "Accuracy after query no. 161: 0.874945\n",
      "Accuracy after query no. 162: 0.874890\n",
      "Accuracy after query no. 163: 0.874835\n",
      "Accuracy after query no. 164: 0.874780\n",
      "Accuracy after query no. 165: 0.874725\n",
      "Accuracy after query no. 166: 0.874670\n",
      "Accuracy after query no. 167: 0.874615\n",
      "Accuracy after query no. 168: 0.874560\n",
      "Accuracy after query no. 169: 0.874505\n",
      "Accuracy after query no. 170: 0.874449\n",
      "Accuracy after query no. 171: 0.874394\n",
      "Accuracy after query no. 172: 0.874339\n",
      "Accuracy after query no. 173: 0.874283\n",
      "Accuracy after query no. 174: 0.874228\n",
      "Accuracy after query no. 175: 0.874172\n",
      "Accuracy after query no. 176: 0.874558\n",
      "Accuracy after query no. 177: 0.874503\n",
      "Accuracy after query no. 178: 0.874447\n",
      "Accuracy after query no. 179: 0.874834\n",
      "Accuracy after query no. 180: 0.874779\n",
      "Accuracy after query no. 181: 0.875166\n",
      "Accuracy after query no. 182: 0.875554\n",
      "Accuracy after query no. 183: 0.875498\n",
      "Accuracy after query no. 184: 0.875443\n",
      "Accuracy after query no. 185: 0.875388\n",
      "Accuracy after query no. 186: 0.875776\n",
      "Accuracy after query no. 187: 0.875721\n",
      "Accuracy after query no. 188: 0.875666\n",
      "Accuracy after query no. 189: 0.875611\n",
      "Accuracy after query no. 190: 0.875556\n",
      "Accuracy after query no. 191: 0.875500\n",
      "Accuracy after query no. 192: 0.875445\n",
      "Accuracy after query no. 193: 0.875389\n",
      "Accuracy after query no. 194: 0.875779\n",
      "Accuracy after query no. 195: 0.875724\n",
      "Accuracy after query no. 196: 0.876114\n",
      "Accuracy after query no. 197: 0.876059\n",
      "Accuracy after query no. 198: 0.876004\n",
      "Accuracy after query no. 199: 0.875948\n",
      "Accuracy after query no. 200: 0.875893\n",
      "Accuracy after query no. 201: 0.875837\n",
      "Accuracy after query no. 202: 0.875782\n",
      "Accuracy after query no. 203: 0.876173\n",
      "Accuracy after query no. 204: 0.876118\n",
      "Accuracy after query no. 205: 0.876063\n",
      "Accuracy after query no. 206: 0.876007\n",
      "Accuracy after query no. 207: 0.876399\n",
      "Accuracy after query no. 208: 0.876792\n",
      "Accuracy after query no. 209: 0.876737\n",
      "Accuracy after query no. 210: 0.876682\n",
      "Accuracy after query no. 211: 0.876626\n",
      "Accuracy after query no. 212: 0.876571\n",
      "Accuracy after query no. 213: 0.876515\n",
      "Accuracy after query no. 214: 0.876909\n",
      "Accuracy after query no. 215: 0.876854\n",
      "Accuracy after query no. 216: 0.877248\n",
      "Accuracy after query no. 217: 0.877193\n",
      "Accuracy after query no. 218: 0.877138\n",
      "Accuracy after query no. 219: 0.877533\n",
      "Accuracy after query no. 220: 0.877477\n",
      "Accuracy after query no. 221: 0.877873\n",
      "Accuracy after query no. 222: 0.878269\n",
      "Accuracy after query no. 223: 0.878214\n",
      "Accuracy after query no. 224: 0.878159\n",
      "Accuracy after query no. 225: 0.878555\n",
      "Accuracy after query no. 226: 0.878500\n",
      "Accuracy after query no. 227: 0.878446\n",
      "Accuracy after query no. 228: 0.878391\n",
      "Accuracy after query no. 229: 0.878336\n",
      "Accuracy after query no. 230: 0.878281\n",
      "Accuracy after query no. 231: 0.878225\n",
      "Accuracy after query no. 232: 0.878170\n",
      "Accuracy after query no. 233: 0.878568\n",
      "Accuracy after query no. 234: 0.878513\n",
      "Accuracy after query no. 235: 0.878458\n",
      "Accuracy after query no. 236: 0.878403\n",
      "Accuracy after query no. 237: 0.878348\n",
      "Accuracy after query no. 238: 0.878292\n",
      "Accuracy after query no. 239: 0.878237\n",
      "Accuracy after query no. 240: 0.878182\n",
      "Accuracy after query no. 241: 0.878581\n",
      "Accuracy after query no. 242: 0.878526\n",
      "Accuracy after query no. 243: 0.878926\n",
      "Accuracy after query no. 244: 0.878871\n",
      "======================================\n",
      "By just labelling  9.99 % of total data accuracy of  0.879  % is achieved on the unseen data\n"
     ]
    }
   ],
   "source": [
    "act_data = short_df.copy()\n",
    "accuracy_list = []\n",
    "\n",
    "# initialising\n",
    "train_idx = seed_index\n",
    "X_train = X[train_idx]\n",
    "y_train = Y[train_idx]\n",
    " \n",
    "# generating the pool\n",
    "X_pool = np.delete(X, train_idx, axis=0)\n",
    "y_pool = np.delete(Y, train_idx)\n",
    "\n",
    "act_data = act_data.drop(axis=0,index = train_idx)\n",
    "act_data.reset_index(drop = True,inplace=True)\n",
    "\n",
    "\n",
    "# initializing the active learner\n",
    "# lr = LogisticRegression()\n",
    "nb = MultinomialNB()\n",
    "learner = ActiveLearner(\n",
    "#     estimator = lr,\n",
    "    estimator = nb,\n",
    "#     estimator = RandomForestClassifier(n_estimators=5),\n",
    "#     estimator=KNeighborsClassifier(n_neighbors=3),\n",
    "    X_training=X_train, y_training=y_train\n",
    ")\n",
    "\n",
    "# pool-based sampling\n",
    "n_queries = int(len(X)/10)\n",
    "for idx in range(n_queries):\n",
    "    query_idx, query_instance = learner.query(X_pool)\n",
    "#     print(\"\\nQ: \", act_data.loc[int(query_idx),'question'])\n",
    "#     print(\"A: \",act_data.loc[int(query_idx),'student_answer'])\n",
    "#     print(\"Actual grade: \",y_pool[query_idx].reshape(1, ))\n",
    "#     print (\"Class probabilities: \",learner.predict_proba(X_pool[query_idx].reshape(1, -1)))\n",
    "#     human_label = int(input(\"\\nGive me a grade 0 or 1:\"))\n",
    "    \n",
    "    learner.teach(\n",
    "        X=X_pool[query_idx].reshape(1, -1),\n",
    "        y=y_pool[query_idx].reshape(1, )\n",
    "    )\n",
    "    \n",
    "    # remove queried instance from pool\n",
    "    X_pool = np.delete(X_pool, query_idx, axis=0)\n",
    "    y_pool = np.delete(y_pool, query_idx)\n",
    "    \n",
    "    act_data = act_data.drop(axis=0,index = query_idx)\n",
    "    act_data.reset_index(drop=True, inplace=True)\n",
    "    \n",
    "    accuracy_list.append(learner.score(X,Y))\n",
    "    print('Accuracy after query no. %d: %f' % (idx+1, learner.score(X_pool, y_pool)))\n",
    "print(\"======================================\")\n",
    "print(\"By just labelling \",round(n_queries*100.0/len(X),2),\"% of total data accuracy of \", round(learner.score(X_pool, y_pool),3), \" % is achieved on the unseen data\"  )"
   ]
  },
  {
   "cell_type": "markdown",
   "metadata": {},
   "source": [
    "## Regular supervised task"
   ]
  },
  {
   "cell_type": "code",
   "execution_count": 81,
   "metadata": {},
   "outputs": [],
   "source": [
    "from sklearn.model_selection import train_test_split"
   ]
  },
  {
   "cell_type": "code",
   "execution_count": 82,
   "metadata": {},
   "outputs": [],
   "source": [
    "check_X = np.copy(X)\n",
    "check_Y = np.copy(Y)\n",
    "\n",
    "X_train,X_test,Y_train,Y_test = train_test_split(check_X,check_Y,test_size = 0.2)"
   ]
  },
  {
   "cell_type": "code",
   "execution_count": 83,
   "metadata": {},
   "outputs": [
    {
     "name": "stdout",
     "output_type": "stream",
     "text": [
      "0.8793456032719836\n"
     ]
    }
   ],
   "source": [
    "# logisticRegr = LogisticRegression()\n",
    "nb.fit(X_train, Y_train)\n",
    "score = nb.score(X_test, Y_test)\n",
    "\n",
    "print(score)"
   ]
  },
  {
   "cell_type": "code",
   "execution_count": 84,
   "metadata": {},
   "outputs": [
    {
     "data": {
      "image/png": "[encoded data removed]",
      "text/plain": [
       "<Figure size 432x288 with 1 Axes>"
      ]
     },
     "metadata": {},
     "output_type": "display_data"
    }
   ],
   "source": [
    "supervised_accuracy = [score for x in range(0,n_queries)]\n",
    "\n",
    "plt.figure()\n",
    "plt.plot(np.linspace(0,n_queries-1,n_queries),supervised_accuracy)\n",
    "plt.plot(accuracy_list)\n",
    "plt.title(\"Accuracy after every query\")\n",
    "plt.xlabel(\"Query number\")\n",
    "plt.ylabel(\"Accuracy\")\n",
    "plt.legend([\"Supervised\", \"Active Learning\"], loc=\"lower right\")\n",
    "plt.show()"
   ]
  }
 ],
 "metadata": {
  "kernelspec": {
   "display_name": "nlgeval",
   "language": "python",
   "name": "maluuba"
  },
  "language_info": {
   "codemirror_mode": {
    "name": "ipython",
    "version": 3
   },
   "file_extension": ".py",
   "mimetype": "text/x-python",
   "name": "python",
   "nbconvert_exporter": "python",
   "pygments_lexer": "ipython3",
   "version": "3.6.6"
  }
 },
 "nbformat": 4,
 "nbformat_minor": 2
}
